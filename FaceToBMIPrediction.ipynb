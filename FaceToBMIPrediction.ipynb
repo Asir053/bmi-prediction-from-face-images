{
  "nbformat": 4,
  "nbformat_minor": 0,
  "metadata": {
    "colab": {
      "name": "FaceToBMIPrediction.ipynb",
      "provenance": [],
      "collapsed_sections": []
    },
    "kernelspec": {
      "name": "python3",
      "display_name": "Python 3"
    },
    "language_info": {
      "name": "python"
    },
    "accelerator": "GPU",
    "widgets": {
      "application/vnd.jupyter.widget-state+json": {
        "22637783181a49ae86daf17f2d49857b": {
          "model_module": "@jupyter-widgets/controls",
          "model_name": "ImageModel",
          "model_module_version": "1.5.0",
          "state": {
            "_view_name": "ImageView",
            "_dom_classes": [],
            "_model_name": "ImageModel",
            "format": "jpg",
            "_view_module": "@jupyter-widgets/controls",
            "_model_module_version": "1.5.0",
            "_view_count": null,
            "width": "300",
            "_view_module_version": "1.5.0",
            "layout": "IPY_MODEL_f13e746578094106b29da35e9f9b1458",
            "height": "400",
            "_model_module": "@jupyter-widgets/controls"
          }
        },
        "f13e746578094106b29da35e9f9b1458": {
          "model_module": "@jupyter-widgets/base",
          "model_name": "LayoutModel",
          "model_module_version": "1.2.0",
          "state": {
            "_view_name": "LayoutView",
            "grid_template_rows": null,
            "right": null,
            "justify_content": null,
            "_view_module": "@jupyter-widgets/base",
            "overflow": null,
            "_model_module_version": "1.2.0",
            "_view_count": null,
            "flex_flow": null,
            "width": null,
            "min_width": null,
            "border": null,
            "align_items": null,
            "bottom": null,
            "_model_module": "@jupyter-widgets/base",
            "top": null,
            "grid_column": null,
            "overflow_y": null,
            "overflow_x": null,
            "grid_auto_flow": null,
            "grid_area": null,
            "grid_template_columns": null,
            "flex": null,
            "_model_name": "LayoutModel",
            "justify_items": null,
            "grid_row": null,
            "max_height": null,
            "align_content": null,
            "visibility": null,
            "align_self": null,
            "height": null,
            "min_height": null,
            "padding": null,
            "grid_auto_rows": null,
            "grid_gap": null,
            "max_width": null,
            "order": null,
            "_view_module_version": "1.2.0",
            "grid_template_areas": null,
            "object_position": null,
            "object_fit": null,
            "grid_auto_columns": null,
            "margin": null,
            "display": null,
            "left": null
          }
        },
        "ce412e26937b4a52b0d8baebf411f661": {
          "model_module": "@jupyter-widgets/controls",
          "model_name": "ImageModel",
          "model_module_version": "1.5.0",
          "state": {
            "_view_name": "ImageView",
            "_dom_classes": [],
            "_model_name": "ImageModel",
            "format": "jpg",
            "_view_module": "@jupyter-widgets/controls",
            "_model_module_version": "1.5.0",
            "_view_count": null,
            "width": "300",
            "_view_module_version": "1.5.0",
            "layout": "IPY_MODEL_d44dff30076e42b781c00da15d691991",
            "height": "400",
            "_model_module": "@jupyter-widgets/controls"
          }
        },
        "d44dff30076e42b781c00da15d691991": {
          "model_module": "@jupyter-widgets/base",
          "model_name": "LayoutModel",
          "model_module_version": "1.2.0",
          "state": {
            "_view_name": "LayoutView",
            "grid_template_rows": null,
            "right": null,
            "justify_content": null,
            "_view_module": "@jupyter-widgets/base",
            "overflow": null,
            "_model_module_version": "1.2.0",
            "_view_count": null,
            "flex_flow": null,
            "width": null,
            "min_width": null,
            "border": null,
            "align_items": null,
            "bottom": null,
            "_model_module": "@jupyter-widgets/base",
            "top": null,
            "grid_column": null,
            "overflow_y": null,
            "overflow_x": null,
            "grid_auto_flow": null,
            "grid_area": null,
            "grid_template_columns": null,
            "flex": null,
            "_model_name": "LayoutModel",
            "justify_items": null,
            "grid_row": null,
            "max_height": null,
            "align_content": null,
            "visibility": null,
            "align_self": null,
            "height": null,
            "min_height": null,
            "padding": null,
            "grid_auto_rows": null,
            "grid_gap": null,
            "max_width": null,
            "order": null,
            "_view_module_version": "1.2.0",
            "grid_template_areas": null,
            "object_position": null,
            "object_fit": null,
            "grid_auto_columns": null,
            "margin": null,
            "display": null,
            "left": null
          }
        },
        "362a8f4b0ca64447abce78e6e5c54449": {
          "model_module": "@jupyter-widgets/controls",
          "model_name": "ImageModel",
          "model_module_version": "1.5.0",
          "state": {
            "_view_name": "ImageView",
            "_dom_classes": [],
            "_model_name": "ImageModel",
            "format": "jpg",
            "_view_module": "@jupyter-widgets/controls",
            "_model_module_version": "1.5.0",
            "_view_count": null,
            "width": "300",
            "_view_module_version": "1.5.0",
            "layout": "IPY_MODEL_2f35d73fe1394c3ab1a06d7e89e9c19a",
            "height": "400",
            "_model_module": "@jupyter-widgets/controls"
          }
        },
        "2f35d73fe1394c3ab1a06d7e89e9c19a": {
          "model_module": "@jupyter-widgets/base",
          "model_name": "LayoutModel",
          "model_module_version": "1.2.0",
          "state": {
            "_view_name": "LayoutView",
            "grid_template_rows": null,
            "right": null,
            "justify_content": null,
            "_view_module": "@jupyter-widgets/base",
            "overflow": null,
            "_model_module_version": "1.2.0",
            "_view_count": null,
            "flex_flow": null,
            "width": null,
            "min_width": null,
            "border": null,
            "align_items": null,
            "bottom": null,
            "_model_module": "@jupyter-widgets/base",
            "top": null,
            "grid_column": null,
            "overflow_y": null,
            "overflow_x": null,
            "grid_auto_flow": null,
            "grid_area": null,
            "grid_template_columns": null,
            "flex": null,
            "_model_name": "LayoutModel",
            "justify_items": null,
            "grid_row": null,
            "max_height": null,
            "align_content": null,
            "visibility": null,
            "align_self": null,
            "height": null,
            "min_height": null,
            "padding": null,
            "grid_auto_rows": null,
            "grid_gap": null,
            "max_width": null,
            "order": null,
            "_view_module_version": "1.2.0",
            "grid_template_areas": null,
            "object_position": null,
            "object_fit": null,
            "grid_auto_columns": null,
            "margin": null,
            "display": null,
            "left": null
          }
        }
      }
    }
  },
  "cells": [
    {
      "cell_type": "code",
      "metadata": {
        "colab": {
          "base_uri": "https://localhost:8080/"
        },
        "id": "2iDzZoNlz5dG",
        "outputId": "d0871955-155d-47c8-b0b3-eb0781c5737e"
      },
      "source": [
        "pip install face-recognition"
      ],
      "execution_count": null,
      "outputs": [
        {
          "output_type": "stream",
          "name": "stdout",
          "text": [
            "Collecting face-recognition\n",
            "  Downloading face_recognition-1.3.0-py2.py3-none-any.whl (15 kB)\n",
            "Requirement already satisfied: Pillow in /usr/local/lib/python3.7/dist-packages (from face-recognition) (7.1.2)\n",
            "Collecting face-recognition-models>=0.3.0\n",
            "  Downloading face_recognition_models-0.3.0.tar.gz (100.1 MB)\n",
            "\u001b[K     |████████████████████████████████| 100.1 MB 24 kB/s \n",
            "\u001b[?25hRequirement already satisfied: dlib>=19.7 in /usr/local/lib/python3.7/dist-packages (from face-recognition) (19.18.0)\n",
            "Requirement already satisfied: numpy in /usr/local/lib/python3.7/dist-packages (from face-recognition) (1.19.5)\n",
            "Requirement already satisfied: Click>=6.0 in /usr/local/lib/python3.7/dist-packages (from face-recognition) (7.1.2)\n",
            "Building wheels for collected packages: face-recognition-models\n",
            "  Building wheel for face-recognition-models (setup.py) ... \u001b[?25l\u001b[?25hdone\n",
            "  Created wheel for face-recognition-models: filename=face_recognition_models-0.3.0-py2.py3-none-any.whl size=100566185 sha256=81d34f79a952c2be7f43195fd6abf96039973780e4ad73b613b03545412a2098\n",
            "  Stored in directory: /root/.cache/pip/wheels/d6/81/3c/884bcd5e1c120ff548d57c2ecc9ebf3281c9a6f7c0e7e7947a\n",
            "Successfully built face-recognition-models\n",
            "Installing collected packages: face-recognition-models, face-recognition\n",
            "Successfully installed face-recognition-1.3.0 face-recognition-models-0.3.0\n"
          ]
        }
      ]
    },
    {
      "cell_type": "code",
      "metadata": {
        "colab": {
          "base_uri": "https://localhost:8080/"
        },
        "id": "9qxail-T0l41",
        "outputId": "409f1685-0081-44f7-c83a-175c7ebd49b2"
      },
      "source": [
        "pip install Dlib"
      ],
      "execution_count": null,
      "outputs": [
        {
          "output_type": "stream",
          "name": "stdout",
          "text": [
            "Requirement already satisfied: Dlib in /usr/local/lib/python3.7/dist-packages (19.18.0)\n"
          ]
        }
      ]
    },
    {
      "cell_type": "code",
      "metadata": {
        "colab": {
          "base_uri": "https://localhost:8080/"
        },
        "id": "Aof8y5nc0qy8",
        "outputId": "758a3d73-bbeb-49f6-d237-7c70364faf00"
      },
      "source": [
        "pip install chart_studio"
      ],
      "execution_count": null,
      "outputs": [
        {
          "output_type": "stream",
          "name": "stdout",
          "text": [
            "Collecting chart_studio\n",
            "  Downloading chart_studio-1.1.0-py3-none-any.whl (64 kB)\n",
            "\u001b[?25l\r\u001b[K     |█████                           | 10 kB 25.0 MB/s eta 0:00:01\r\u001b[K     |██████████▏                     | 20 kB 25.8 MB/s eta 0:00:01\r\u001b[K     |███████████████▎                | 30 kB 21.7 MB/s eta 0:00:01\r\u001b[K     |████████████████████▍           | 40 kB 18.0 MB/s eta 0:00:01\r\u001b[K     |█████████████████████████▍      | 51 kB 13.9 MB/s eta 0:00:01\r\u001b[K     |██████████████████████████████▌ | 61 kB 12.1 MB/s eta 0:00:01\r\u001b[K     |████████████████████████████████| 64 kB 2.6 MB/s \n",
            "\u001b[?25hRequirement already satisfied: retrying>=1.3.3 in /usr/local/lib/python3.7/dist-packages (from chart_studio) (1.3.3)\n",
            "Requirement already satisfied: six in /usr/local/lib/python3.7/dist-packages (from chart_studio) (1.15.0)\n",
            "Requirement already satisfied: requests in /usr/local/lib/python3.7/dist-packages (from chart_studio) (2.23.0)\n",
            "Requirement already satisfied: plotly in /usr/local/lib/python3.7/dist-packages (from chart_studio) (4.4.1)\n",
            "Requirement already satisfied: certifi>=2017.4.17 in /usr/local/lib/python3.7/dist-packages (from requests->chart_studio) (2021.5.30)\n",
            "Requirement already satisfied: chardet<4,>=3.0.2 in /usr/local/lib/python3.7/dist-packages (from requests->chart_studio) (3.0.4)\n",
            "Requirement already satisfied: idna<3,>=2.5 in /usr/local/lib/python3.7/dist-packages (from requests->chart_studio) (2.10)\n",
            "Requirement already satisfied: urllib3!=1.25.0,!=1.25.1,<1.26,>=1.21.1 in /usr/local/lib/python3.7/dist-packages (from requests->chart_studio) (1.24.3)\n",
            "Installing collected packages: chart-studio\n",
            "Successfully installed chart-studio-1.1.0\n"
          ]
        }
      ]
    },
    {
      "cell_type": "code",
      "metadata": {
        "id": "KJyzLN7u0vME"
      },
      "source": [
        "import face_recognition\n",
        "import numpy as np\n",
        "import seaborn as sns\n",
        "import pandas as pd\n",
        "import matplotlib.pyplot as plt\n",
        "%matplotlib inline"
      ],
      "execution_count": null,
      "outputs": []
    },
    {
      "cell_type": "code",
      "metadata": {
        "colab": {
          "base_uri": "https://localhost:8080/"
        },
        "id": "HFDz1x1s00CE",
        "outputId": "e93cb3ed-c489-4c07-9414-d41ebac8f70c"
      },
      "source": [
        "from google.colab import drive\n",
        "drive.mount('/content/drive')"
      ],
      "execution_count": null,
      "outputs": [
        {
          "output_type": "stream",
          "name": "stdout",
          "text": [
            "Mounted at /content/drive\n"
          ]
        }
      ]
    },
    {
      "cell_type": "code",
      "metadata": {
        "colab": {
          "base_uri": "https://localhost:8080/"
        },
        "id": "RmQnpOzM3CEu",
        "outputId": "b4d55fcd-7ac4-4845-f2de-016f6a0f5718"
      },
      "source": [
        "!unzip '/content/drive/My Drive/Face_to_BMI.zip'"
      ],
      "execution_count": null,
      "outputs": [
        {
          "output_type": "stream",
          "name": "stdout",
          "text": [
            "Archive:  /content/drive/My Drive/Face_to_BMI.zip\n",
            "   creating: Face_to_BMI/Data/\n",
            "  inflating: Face_to_BMI/Data/annotation.csv  \n",
            "   creating: Face_to_BMI/Data/Images_vip/\n",
            "  inflating: Face_to_BMI/Data/Images_vip/f_001.jpg  \n",
            "  inflating: Face_to_BMI/Data/Images_vip/f_002.jpg  \n",
            "  inflating: Face_to_BMI/Data/Images_vip/f_003.jpg  \n",
            "  inflating: Face_to_BMI/Data/Images_vip/f_004.jpg  \n",
            "  inflating: Face_to_BMI/Data/Images_vip/f_005.jpg  \n",
            "  inflating: Face_to_BMI/Data/Images_vip/f_006.jpg  \n",
            "  inflating: Face_to_BMI/Data/Images_vip/f_007.jpg  \n",
            "  inflating: Face_to_BMI/Data/Images_vip/f_008.jpg  \n",
            "  inflating: Face_to_BMI/Data/Images_vip/f_009.jpg  \n",
            "  inflating: Face_to_BMI/Data/Images_vip/f_010.jpg  \n",
            "  inflating: Face_to_BMI/Data/Images_vip/f_011.jpg  \n",
            "  inflating: Face_to_BMI/Data/Images_vip/f_012.jpg  \n",
            "  inflating: Face_to_BMI/Data/Images_vip/f_013.jpg  \n",
            "  inflating: Face_to_BMI/Data/Images_vip/f_014.jpg  \n",
            "  inflating: Face_to_BMI/Data/Images_vip/f_015.jpg  \n",
            "  inflating: Face_to_BMI/Data/Images_vip/f_016.jpg  \n",
            "  inflating: Face_to_BMI/Data/Images_vip/f_017.jpg  \n",
            "  inflating: Face_to_BMI/Data/Images_vip/f_018.jpg  \n",
            "  inflating: Face_to_BMI/Data/Images_vip/f_019.jpg  \n",
            "  inflating: Face_to_BMI/Data/Images_vip/f_020.jpg  \n",
            "  inflating: Face_to_BMI/Data/Images_vip/f_021.jpg  \n",
            "  inflating: Face_to_BMI/Data/Images_vip/f_022.jpg  \n",
            "  inflating: Face_to_BMI/Data/Images_vip/f_023.jpg  \n",
            "  inflating: Face_to_BMI/Data/Images_vip/f_024.jpg  \n",
            "  inflating: Face_to_BMI/Data/Images_vip/f_025.jpg  \n",
            "  inflating: Face_to_BMI/Data/Images_vip/f_026.jpg  \n",
            "  inflating: Face_to_BMI/Data/Images_vip/f_027.jpg  \n",
            "  inflating: Face_to_BMI/Data/Images_vip/f_028.jpg  \n",
            "  inflating: Face_to_BMI/Data/Images_vip/f_029.jpg  \n",
            "  inflating: Face_to_BMI/Data/Images_vip/f_030.jpg  \n",
            "  inflating: Face_to_BMI/Data/Images_vip/f_031.jpg  \n",
            "  inflating: Face_to_BMI/Data/Images_vip/f_032.jpg  \n",
            "  inflating: Face_to_BMI/Data/Images_vip/f_033.jpg  \n",
            "  inflating: Face_to_BMI/Data/Images_vip/f_034.jpg  \n",
            "  inflating: Face_to_BMI/Data/Images_vip/f_035.jpg  \n",
            "  inflating: Face_to_BMI/Data/Images_vip/f_036.jpg  \n",
            "  inflating: Face_to_BMI/Data/Images_vip/f_037.jpg  \n",
            "  inflating: Face_to_BMI/Data/Images_vip/f_038.jpg  \n",
            "  inflating: Face_to_BMI/Data/Images_vip/f_039.jpg  \n",
            "  inflating: Face_to_BMI/Data/Images_vip/f_040.jpg  \n",
            "  inflating: Face_to_BMI/Data/Images_vip/f_041.jpg  \n",
            "  inflating: Face_to_BMI/Data/Images_vip/f_042.jpg  \n",
            "  inflating: Face_to_BMI/Data/Images_vip/f_043.jpg  \n",
            "  inflating: Face_to_BMI/Data/Images_vip/f_044.jpg  \n",
            "  inflating: Face_to_BMI/Data/Images_vip/f_045.jpg  \n",
            "  inflating: Face_to_BMI/Data/Images_vip/f_046.jpg  \n",
            "  inflating: Face_to_BMI/Data/Images_vip/f_047.jpg  \n",
            "  inflating: Face_to_BMI/Data/Images_vip/f_048.jpg  \n",
            "  inflating: Face_to_BMI/Data/Images_vip/f_049.jpg  \n",
            "  inflating: Face_to_BMI/Data/Images_vip/f_050.jpg  \n",
            "  inflating: Face_to_BMI/Data/Images_vip/f_051.jpg  \n",
            "  inflating: Face_to_BMI/Data/Images_vip/f_052.jpg  \n",
            "  inflating: Face_to_BMI/Data/Images_vip/f_053.jpg  \n",
            "  inflating: Face_to_BMI/Data/Images_vip/f_054.jpg  \n",
            "  inflating: Face_to_BMI/Data/Images_vip/f_055.jpg  \n",
            "  inflating: Face_to_BMI/Data/Images_vip/f_056.jpg  \n",
            "  inflating: Face_to_BMI/Data/Images_vip/f_057.jpg  \n",
            "  inflating: Face_to_BMI/Data/Images_vip/f_058.jpg  \n",
            "  inflating: Face_to_BMI/Data/Images_vip/f_059.jpg  \n",
            "  inflating: Face_to_BMI/Data/Images_vip/f_060.jpg  \n",
            "  inflating: Face_to_BMI/Data/Images_vip/f_061.jpg  \n",
            "  inflating: Face_to_BMI/Data/Images_vip/f_062.jpg  \n",
            "  inflating: Face_to_BMI/Data/Images_vip/f_063.jpg  \n",
            "  inflating: Face_to_BMI/Data/Images_vip/f_064.jpg  \n",
            "  inflating: Face_to_BMI/Data/Images_vip/f_065.jpg  \n",
            "  inflating: Face_to_BMI/Data/Images_vip/f_066.jpg  \n",
            "  inflating: Face_to_BMI/Data/Images_vip/f_067.jpg  \n",
            "  inflating: Face_to_BMI/Data/Images_vip/f_068.jpg  \n",
            "  inflating: Face_to_BMI/Data/Images_vip/f_069.jpg  \n",
            "  inflating: Face_to_BMI/Data/Images_vip/f_070.jpg  \n",
            "  inflating: Face_to_BMI/Data/Images_vip/f_071.jpg  \n",
            "  inflating: Face_to_BMI/Data/Images_vip/f_072.jpg  \n",
            "  inflating: Face_to_BMI/Data/Images_vip/f_073.jpg  \n",
            "  inflating: Face_to_BMI/Data/Images_vip/f_074.jpg  \n",
            "  inflating: Face_to_BMI/Data/Images_vip/f_075.jpg  \n",
            "  inflating: Face_to_BMI/Data/Images_vip/f_076.jpg  \n",
            "  inflating: Face_to_BMI/Data/Images_vip/f_077.jpg  \n",
            "  inflating: Face_to_BMI/Data/Images_vip/f_078.jpg  \n",
            "  inflating: Face_to_BMI/Data/Images_vip/f_079.jpg  \n",
            "  inflating: Face_to_BMI/Data/Images_vip/f_080.jpg  \n",
            "  inflating: Face_to_BMI/Data/Images_vip/f_081.jpg  \n",
            "  inflating: Face_to_BMI/Data/Images_vip/f_082.jpg  \n",
            "  inflating: Face_to_BMI/Data/Images_vip/f_083.jpg  \n",
            "  inflating: Face_to_BMI/Data/Images_vip/f_084.jpg  \n",
            "  inflating: Face_to_BMI/Data/Images_vip/f_085.jpg  \n",
            "  inflating: Face_to_BMI/Data/Images_vip/f_086.jpg  \n",
            "  inflating: Face_to_BMI/Data/Images_vip/f_087.jpg  \n",
            "  inflating: Face_to_BMI/Data/Images_vip/f_088.jpg  \n",
            "  inflating: Face_to_BMI/Data/Images_vip/f_089.jpg  \n",
            "  inflating: Face_to_BMI/Data/Images_vip/f_090.jpg  \n",
            "  inflating: Face_to_BMI/Data/Images_vip/f_091.jpg  \n",
            "  inflating: Face_to_BMI/Data/Images_vip/f_092.jpg  \n",
            "  inflating: Face_to_BMI/Data/Images_vip/f_093.jpg  \n",
            "  inflating: Face_to_BMI/Data/Images_vip/f_094.jpg  \n",
            "  inflating: Face_to_BMI/Data/Images_vip/f_095.jpg  \n",
            "  inflating: Face_to_BMI/Data/Images_vip/f_096.jpg  \n",
            "  inflating: Face_to_BMI/Data/Images_vip/f_097.jpg  \n",
            "  inflating: Face_to_BMI/Data/Images_vip/f_098.jpg  \n",
            "  inflating: Face_to_BMI/Data/Images_vip/f_099.jpg  \n",
            "  inflating: Face_to_BMI/Data/Images_vip/f_100.jpg  \n",
            "  inflating: Face_to_BMI/Data/Images_vip/f_101.jpg  \n",
            "  inflating: Face_to_BMI/Data/Images_vip/f_102.jpg  \n",
            "  inflating: Face_to_BMI/Data/Images_vip/f_103.jpg  \n",
            "  inflating: Face_to_BMI/Data/Images_vip/f_104.jpg  \n",
            "  inflating: Face_to_BMI/Data/Images_vip/f_105.jpg  \n",
            "  inflating: Face_to_BMI/Data/Images_vip/f_106.jpg  \n",
            "  inflating: Face_to_BMI/Data/Images_vip/f_107.jpg  \n",
            "  inflating: Face_to_BMI/Data/Images_vip/f_108.jpg  \n",
            "  inflating: Face_to_BMI/Data/Images_vip/f_109.jpg  \n",
            "  inflating: Face_to_BMI/Data/Images_vip/f_110.jpg  \n",
            "  inflating: Face_to_BMI/Data/Images_vip/f_111.jpg  \n",
            "  inflating: Face_to_BMI/Data/Images_vip/f_112.jpg  \n",
            "  inflating: Face_to_BMI/Data/Images_vip/f_113.jpg  \n",
            "  inflating: Face_to_BMI/Data/Images_vip/f_114.jpg  \n",
            "  inflating: Face_to_BMI/Data/Images_vip/f_115.jpg  \n",
            "  inflating: Face_to_BMI/Data/Images_vip/f_116.jpg  \n",
            "  inflating: Face_to_BMI/Data/Images_vip/f_117.jpg  \n",
            "  inflating: Face_to_BMI/Data/Images_vip/f_118.jpg  \n",
            "  inflating: Face_to_BMI/Data/Images_vip/f_119.jpg  \n",
            "  inflating: Face_to_BMI/Data/Images_vip/f_120.jpg  \n",
            "  inflating: Face_to_BMI/Data/Images_vip/f_121.jpg  \n",
            "  inflating: Face_to_BMI/Data/Images_vip/f_122.jpg  \n",
            "  inflating: Face_to_BMI/Data/Images_vip/f_123.jpg  \n",
            "  inflating: Face_to_BMI/Data/Images_vip/f_124.jpg  \n",
            "  inflating: Face_to_BMI/Data/Images_vip/f_125.jpg  \n",
            "  inflating: Face_to_BMI/Data/Images_vip/f_126.JPG  \n",
            "  inflating: Face_to_BMI/Data/Images_vip/f_127.jpg  \n",
            "  inflating: Face_to_BMI/Data/Images_vip/f_128.jpg  \n",
            "  inflating: Face_to_BMI/Data/Images_vip/f_129.jpg  \n",
            "  inflating: Face_to_BMI/Data/Images_vip/f_130.jpg  \n",
            "  inflating: Face_to_BMI/Data/Images_vip/f_131.jpg  \n",
            "  inflating: Face_to_BMI/Data/Images_vip/f_132.jpg  \n",
            "  inflating: Face_to_BMI/Data/Images_vip/f_133.jpg  \n",
            "  inflating: Face_to_BMI/Data/Images_vip/f_134.jpg  \n",
            "  inflating: Face_to_BMI/Data/Images_vip/f_135.jpg  \n",
            "  inflating: Face_to_BMI/Data/Images_vip/f_136.jpg  \n",
            "  inflating: Face_to_BMI/Data/Images_vip/f_137.jpg  \n",
            "  inflating: Face_to_BMI/Data/Images_vip/f_138.jpg  \n",
            "  inflating: Face_to_BMI/Data/Images_vip/f_139.jpg  \n",
            "  inflating: Face_to_BMI/Data/Images_vip/f_140.jpg  \n",
            "  inflating: Face_to_BMI/Data/Images_vip/f_141.jpg  \n",
            "  inflating: Face_to_BMI/Data/Images_vip/f_142.jpg  \n",
            "  inflating: Face_to_BMI/Data/Images_vip/f_143.jpg  \n",
            "  inflating: Face_to_BMI/Data/Images_vip/f_144.jpg  \n",
            "  inflating: Face_to_BMI/Data/Images_vip/f_145.jpg  \n",
            "  inflating: Face_to_BMI/Data/Images_vip/f_146.jpg  \n",
            "  inflating: Face_to_BMI/Data/Images_vip/f_147.jpg  \n",
            "  inflating: Face_to_BMI/Data/Images_vip/f_148.jpg  \n",
            "  inflating: Face_to_BMI/Data/Images_vip/f_149.jpg  \n",
            "  inflating: Face_to_BMI/Data/Images_vip/f_150.jpg  \n",
            "  inflating: Face_to_BMI/Data/Images_vip/f_151.jpg  \n",
            "  inflating: Face_to_BMI/Data/Images_vip/f_152.jpg  \n",
            "  inflating: Face_to_BMI/Data/Images_vip/f_153.jpg  \n",
            "  inflating: Face_to_BMI/Data/Images_vip/f_154.jpg  \n",
            "  inflating: Face_to_BMI/Data/Images_vip/f_155.jpg  \n",
            "  inflating: Face_to_BMI/Data/Images_vip/f_156.jpg  \n",
            "  inflating: Face_to_BMI/Data/Images_vip/f_157.jpg  \n",
            "  inflating: Face_to_BMI/Data/Images_vip/f_158.jpg  \n",
            "  inflating: Face_to_BMI/Data/Images_vip/f_159.jpg  \n",
            "  inflating: Face_to_BMI/Data/Images_vip/f_160.jpg  \n",
            "  inflating: Face_to_BMI/Data/Images_vip/f_161.jpg  \n",
            "  inflating: Face_to_BMI/Data/Images_vip/f_162.jpg  \n",
            "  inflating: Face_to_BMI/Data/Images_vip/f_163.jpg  \n",
            "  inflating: Face_to_BMI/Data/Images_vip/f_164.jpg  \n",
            "  inflating: Face_to_BMI/Data/Images_vip/f_165.jpg  \n",
            "  inflating: Face_to_BMI/Data/Images_vip/f_166.jpg  \n",
            "  inflating: Face_to_BMI/Data/Images_vip/f_167.jpg  \n",
            "  inflating: Face_to_BMI/Data/Images_vip/f_168.jpg  \n",
            "  inflating: Face_to_BMI/Data/Images_vip/f_169.jpg  \n",
            "  inflating: Face_to_BMI/Data/Images_vip/f_170.jpg  \n",
            "  inflating: Face_to_BMI/Data/Images_vip/f_171.jpg  \n",
            "  inflating: Face_to_BMI/Data/Images_vip/f_172.jpg  \n",
            "  inflating: Face_to_BMI/Data/Images_vip/f_173.jpg  \n",
            "  inflating: Face_to_BMI/Data/Images_vip/f_174.jpg  \n",
            "  inflating: Face_to_BMI/Data/Images_vip/f_175.jpg  \n",
            "  inflating: Face_to_BMI/Data/Images_vip/f_176.jpg  \n",
            "  inflating: Face_to_BMI/Data/Images_vip/f_177.jpg  \n",
            "  inflating: Face_to_BMI/Data/Images_vip/f_178.jpg  \n",
            "  inflating: Face_to_BMI/Data/Images_vip/f_179.jpg  \n",
            "  inflating: Face_to_BMI/Data/Images_vip/f_180.jpg  \n",
            "  inflating: Face_to_BMI/Data/Images_vip/f_181.jpg  \n",
            "  inflating: Face_to_BMI/Data/Images_vip/f_182.jpg  \n",
            "  inflating: Face_to_BMI/Data/Images_vip/f_183.jpg  \n",
            "  inflating: Face_to_BMI/Data/Images_vip/f_184.jpg  \n",
            "  inflating: Face_to_BMI/Data/Images_vip/f_185.jpg  \n",
            "  inflating: Face_to_BMI/Data/Images_vip/f_186.jpg  \n",
            "  inflating: Face_to_BMI/Data/Images_vip/f_187.jpg  \n",
            "  inflating: Face_to_BMI/Data/Images_vip/f_188.jpg  \n",
            "  inflating: Face_to_BMI/Data/Images_vip/f_189.jpg  \n",
            "  inflating: Face_to_BMI/Data/Images_vip/f_190.jpg  \n",
            "  inflating: Face_to_BMI/Data/Images_vip/f_191.jpg  \n",
            "  inflating: Face_to_BMI/Data/Images_vip/f_192.jpg  \n",
            "  inflating: Face_to_BMI/Data/Images_vip/f_193.jpg  \n",
            "  inflating: Face_to_BMI/Data/Images_vip/f_194.jpg  \n",
            "  inflating: Face_to_BMI/Data/Images_vip/f_195.jpg  \n",
            "  inflating: Face_to_BMI/Data/Images_vip/f_196.jpg  \n",
            "  inflating: Face_to_BMI/Data/Images_vip/f_197.jpg  \n",
            "  inflating: Face_to_BMI/Data/Images_vip/f_198.jpg  \n",
            "  inflating: Face_to_BMI/Data/Images_vip/f_199.jpg  \n",
            "  inflating: Face_to_BMI/Data/Images_vip/f_200.jpg  \n",
            "  inflating: Face_to_BMI/Data/Images_vip/f_201.jpg  \n",
            "  inflating: Face_to_BMI/Data/Images_vip/f_202.jpg  \n",
            "  inflating: Face_to_BMI/Data/Images_vip/f_203.jpg  \n",
            "  inflating: Face_to_BMI/Data/Images_vip/f_204.jpg  \n",
            "  inflating: Face_to_BMI/Data/Images_vip/f_205.jpg  \n",
            "  inflating: Face_to_BMI/Data/Images_vip/f_206.jpg  \n",
            "  inflating: Face_to_BMI/Data/Images_vip/f_207.jpg  \n",
            "  inflating: Face_to_BMI/Data/Images_vip/f_208.jpg  \n",
            "  inflating: Face_to_BMI/Data/Images_vip/f_209.jpg  \n",
            "  inflating: Face_to_BMI/Data/Images_vip/f_210.jpg  \n",
            "  inflating: Face_to_BMI/Data/Images_vip/f_211.jpg  \n",
            "  inflating: Face_to_BMI/Data/Images_vip/f_212.jpg  \n",
            "  inflating: Face_to_BMI/Data/Images_vip/f_213.jpg  \n",
            "  inflating: Face_to_BMI/Data/Images_vip/f_214.jpg  \n",
            "  inflating: Face_to_BMI/Data/Images_vip/f_215.jpg  \n",
            "  inflating: Face_to_BMI/Data/Images_vip/f_216.jpg  \n",
            "  inflating: Face_to_BMI/Data/Images_vip/f_217.jpg  \n",
            "  inflating: Face_to_BMI/Data/Images_vip/f_218.jpg  \n",
            "  inflating: Face_to_BMI/Data/Images_vip/f_219.jpg  \n",
            "  inflating: Face_to_BMI/Data/Images_vip/f_220.jpg  \n",
            "  inflating: Face_to_BMI/Data/Images_vip/f_221.jpg  \n",
            "  inflating: Face_to_BMI/Data/Images_vip/f_222.jpg  \n",
            "  inflating: Face_to_BMI/Data/Images_vip/f_223.jpg  \n",
            "  inflating: Face_to_BMI/Data/Images_vip/f_224.jpg  \n",
            "  inflating: Face_to_BMI/Data/Images_vip/f_225.jpg  \n",
            "  inflating: Face_to_BMI/Data/Images_vip/f_226.jpg  \n",
            "  inflating: Face_to_BMI/Data/Images_vip/f_227.jpg  \n",
            "  inflating: Face_to_BMI/Data/Images_vip/f_228.jpg  \n",
            "  inflating: Face_to_BMI/Data/Images_vip/f_229.jpg  \n",
            "  inflating: Face_to_BMI/Data/Images_vip/f_230.jpg  \n",
            "  inflating: Face_to_BMI/Data/Images_vip/f_231.jpg  \n",
            "  inflating: Face_to_BMI/Data/Images_vip/f_232.jpg  \n",
            "  inflating: Face_to_BMI/Data/Images_vip/f_233.jpg  \n",
            "  inflating: Face_to_BMI/Data/Images_vip/f_234.jpg  \n",
            "  inflating: Face_to_BMI/Data/Images_vip/f_235.jpg  \n",
            "  inflating: Face_to_BMI/Data/Images_vip/f_236.jpg  \n",
            "  inflating: Face_to_BMI/Data/Images_vip/f_237.jpg  \n",
            "  inflating: Face_to_BMI/Data/Images_vip/f_238.jpg  \n",
            "  inflating: Face_to_BMI/Data/Images_vip/f_239.jpg  \n",
            "  inflating: Face_to_BMI/Data/Images_vip/f_240.jpg  \n",
            "  inflating: Face_to_BMI/Data/Images_vip/f_241.jpg  \n",
            "  inflating: Face_to_BMI/Data/Images_vip/f_242.jpg  \n",
            "  inflating: Face_to_BMI/Data/Images_vip/f_243.jpg  \n",
            "  inflating: Face_to_BMI/Data/Images_vip/f_244.jpg  \n",
            "  inflating: Face_to_BMI/Data/Images_vip/f_245.jpg  \n",
            "  inflating: Face_to_BMI/Data/Images_vip/f_246.jpg  \n",
            "  inflating: Face_to_BMI/Data/Images_vip/f_247.jpg  \n",
            "  inflating: Face_to_BMI/Data/Images_vip/f_248.jpg  \n",
            "  inflating: Face_to_BMI/Data/Images_vip/f_249.jpg  \n",
            "  inflating: Face_to_BMI/Data/Images_vip/f_250.jpg  \n",
            "  inflating: Face_to_BMI/Data/Images_vip/f_251.jpg  \n",
            "  inflating: Face_to_BMI/Data/Images_vip/f_252.jpg  \n",
            "  inflating: Face_to_BMI/Data/Images_vip/f_253.jpg  \n",
            "  inflating: Face_to_BMI/Data/Images_vip/f_254.jpg  \n",
            "  inflating: Face_to_BMI/Data/Images_vip/f_255.jpg  \n",
            "  inflating: Face_to_BMI/Data/Images_vip/f_256.jpg  \n",
            "  inflating: Face_to_BMI/Data/Images_vip/f_257.jpg  \n",
            "  inflating: Face_to_BMI/Data/Images_vip/f_258.jpg  \n",
            "  inflating: Face_to_BMI/Data/Images_vip/f_259.jpg  \n",
            "  inflating: Face_to_BMI/Data/Images_vip/f_260.jpg  \n",
            "  inflating: Face_to_BMI/Data/Images_vip/f_261.jpg  \n",
            "  inflating: Face_to_BMI/Data/Images_vip/f_262.jpg  \n",
            "  inflating: Face_to_BMI/Data/Images_vip/f_263.jpg  \n",
            "  inflating: Face_to_BMI/Data/Images_vip/f_264.jpg  \n",
            "  inflating: Face_to_BMI/Data/Images_vip/f_265.jpg  \n",
            "  inflating: Face_to_BMI/Data/Images_vip/f_266.jpg  \n",
            "  inflating: Face_to_BMI/Data/Images_vip/f_267.jpg  \n",
            "  inflating: Face_to_BMI/Data/Images_vip/f_268.jpg  \n",
            "  inflating: Face_to_BMI/Data/Images_vip/f_269.jpg  \n",
            "  inflating: Face_to_BMI/Data/Images_vip/f_270.jpg  \n",
            "  inflating: Face_to_BMI/Data/Images_vip/f_271.jpg  \n",
            "  inflating: Face_to_BMI/Data/Images_vip/f_272.jpg  \n",
            "  inflating: Face_to_BMI/Data/Images_vip/f_273.jpg  \n",
            "  inflating: Face_to_BMI/Data/Images_vip/f_274.jpg  \n",
            "  inflating: Face_to_BMI/Data/Images_vip/f_275.jpg  \n",
            "  inflating: Face_to_BMI/Data/Images_vip/f_276.jpg  \n",
            "  inflating: Face_to_BMI/Data/Images_vip/f_277.jpg  \n",
            "  inflating: Face_to_BMI/Data/Images_vip/f_278.jpg  \n",
            "  inflating: Face_to_BMI/Data/Images_vip/f_279.jpg  \n",
            "  inflating: Face_to_BMI/Data/Images_vip/f_280.jpg  \n",
            "  inflating: Face_to_BMI/Data/Images_vip/f_281.jpg  \n",
            "  inflating: Face_to_BMI/Data/Images_vip/f_282.jpg  \n",
            "  inflating: Face_to_BMI/Data/Images_vip/f_283.jpg  \n",
            "  inflating: Face_to_BMI/Data/Images_vip/f_284.jpg  \n",
            "  inflating: Face_to_BMI/Data/Images_vip/f_285.jpg  \n",
            "  inflating: Face_to_BMI/Data/Images_vip/f_286.jpg  \n",
            "  inflating: Face_to_BMI/Data/Images_vip/f_287.jpg  \n",
            "  inflating: Face_to_BMI/Data/Images_vip/f_288.jpg  \n",
            "  inflating: Face_to_BMI/Data/Images_vip/f_289.jpg  \n",
            "  inflating: Face_to_BMI/Data/Images_vip/f_290.jpg  \n",
            "  inflating: Face_to_BMI/Data/Images_vip/f_291.jpg  \n",
            "  inflating: Face_to_BMI/Data/Images_vip/f_292.jpg  \n",
            "  inflating: Face_to_BMI/Data/Images_vip/f_293.jpg  \n",
            "  inflating: Face_to_BMI/Data/Images_vip/f_294.jpg  \n",
            "  inflating: Face_to_BMI/Data/Images_vip/f_295.jpg  \n",
            "  inflating: Face_to_BMI/Data/Images_vip/f_296.jpg  \n",
            "  inflating: Face_to_BMI/Data/Images_vip/f_297.jpg  \n",
            "  inflating: Face_to_BMI/Data/Images_vip/f_298.jpg  \n",
            "  inflating: Face_to_BMI/Data/Images_vip/f_299.jpg  \n",
            "  inflating: Face_to_BMI/Data/Images_vip/f_300.jpg  \n",
            "  inflating: Face_to_BMI/Data/Images_vip/f_301.jpg  \n",
            "  inflating: Face_to_BMI/Data/Images_vip/f_302.jpg  \n",
            "  inflating: Face_to_BMI/Data/Images_vip/f_303.jpg  \n",
            "  inflating: Face_to_BMI/Data/Images_vip/f_304.jpg  \n",
            "  inflating: Face_to_BMI/Data/Images_vip/f_305.jpg  \n",
            "  inflating: Face_to_BMI/Data/Images_vip/f_306.jpg  \n",
            "  inflating: Face_to_BMI/Data/Images_vip/f_307.jpg  \n",
            "  inflating: Face_to_BMI/Data/Images_vip/f_308.jpg  \n",
            "  inflating: Face_to_BMI/Data/Images_vip/f_309.jpg  \n",
            "  inflating: Face_to_BMI/Data/Images_vip/f_310.jpg  \n",
            "  inflating: Face_to_BMI/Data/Images_vip/f_311.jpg  \n",
            "  inflating: Face_to_BMI/Data/Images_vip/f_312.jpg  \n",
            "  inflating: Face_to_BMI/Data/Images_vip/f_313.jpg  \n",
            "  inflating: Face_to_BMI/Data/Images_vip/f_314.jpg  \n",
            "  inflating: Face_to_BMI/Data/Images_vip/f_315.jpg  \n",
            "  inflating: Face_to_BMI/Data/Images_vip/f_316.jpg  \n",
            "  inflating: Face_to_BMI/Data/Images_vip/f_317.jpg  \n",
            "  inflating: Face_to_BMI/Data/Images_vip/f_318.jpg  \n",
            "  inflating: Face_to_BMI/Data/Images_vip/f_319.jpg  \n",
            "  inflating: Face_to_BMI/Data/Images_vip/f_320.jpg  \n",
            "  inflating: Face_to_BMI/Data/Images_vip/f_321.jpg  \n",
            "  inflating: Face_to_BMI/Data/Images_vip/f_322.jpg  \n",
            "  inflating: Face_to_BMI/Data/Images_vip/f_323.jpg  \n",
            "  inflating: Face_to_BMI/Data/Images_vip/f_324.jpg  \n",
            "  inflating: Face_to_BMI/Data/Images_vip/f_325.jpg  \n",
            "  inflating: Face_to_BMI/Data/Images_vip/f_326.jpg  \n",
            "  inflating: Face_to_BMI/Data/Images_vip/f_327.jpg  \n",
            "  inflating: Face_to_BMI/Data/Images_vip/f_328.jpg  \n",
            "  inflating: Face_to_BMI/Data/Images_vip/f_329.jpg  \n",
            "  inflating: Face_to_BMI/Data/Images_vip/f_330.jpg  \n",
            "  inflating: Face_to_BMI/Data/Images_vip/f_331.jpg  \n",
            "  inflating: Face_to_BMI/Data/Images_vip/f_332.jpg  \n",
            "  inflating: Face_to_BMI/Data/Images_vip/f_333.jpg  \n",
            "  inflating: Face_to_BMI/Data/Images_vip/f_334.jpg  \n",
            "  inflating: Face_to_BMI/Data/Images_vip/f_335.jpg  \n",
            "  inflating: Face_to_BMI/Data/Images_vip/f_336.jpg  \n",
            "  inflating: Face_to_BMI/Data/Images_vip/f_337.jpg  \n",
            "  inflating: Face_to_BMI/Data/Images_vip/f_338.jpg  \n",
            "  inflating: Face_to_BMI/Data/Images_vip/f_339.jpg  \n",
            "  inflating: Face_to_BMI/Data/Images_vip/f_340.jpg  \n",
            "  inflating: Face_to_BMI/Data/Images_vip/f_341.jpg  \n",
            "  inflating: Face_to_BMI/Data/Images_vip/f_342.JPG  \n",
            "  inflating: Face_to_BMI/Data/Images_vip/f_343.jpg  \n",
            "  inflating: Face_to_BMI/Data/Images_vip/f_344.jpg  \n",
            "  inflating: Face_to_BMI/Data/Images_vip/f_345.jpg  \n",
            "  inflating: Face_to_BMI/Data/Images_vip/f_346.jpg  \n",
            "  inflating: Face_to_BMI/Data/Images_vip/f_347.jpg  \n",
            "  inflating: Face_to_BMI/Data/Images_vip/f_348.jpg  \n",
            "  inflating: Face_to_BMI/Data/Images_vip/f_349.jpg  \n",
            "  inflating: Face_to_BMI/Data/Images_vip/f_350.jpg  \n",
            "  inflating: Face_to_BMI/Data/Images_vip/f_351.jpg  \n",
            "  inflating: Face_to_BMI/Data/Images_vip/f_352.jpg  \n",
            "  inflating: Face_to_BMI/Data/Images_vip/f_353.jpg  \n",
            "  inflating: Face_to_BMI/Data/Images_vip/f_354.jpg  \n",
            "  inflating: Face_to_BMI/Data/Images_vip/f_355.jpg  \n",
            "  inflating: Face_to_BMI/Data/Images_vip/f_356.jpg  \n",
            "  inflating: Face_to_BMI/Data/Images_vip/f_357.jpg  \n",
            "  inflating: Face_to_BMI/Data/Images_vip/f_358.jpg  \n",
            "  inflating: Face_to_BMI/Data/Images_vip/f_359.jpg  \n",
            "  inflating: Face_to_BMI/Data/Images_vip/f_360.jpg  \n",
            "  inflating: Face_to_BMI/Data/Images_vip/f_361.jpg  \n",
            "  inflating: Face_to_BMI/Data/Images_vip/f_362.jpg  \n",
            "  inflating: Face_to_BMI/Data/Images_vip/f_363.jpg  \n",
            "  inflating: Face_to_BMI/Data/Images_vip/f_364.jpg  \n",
            "  inflating: Face_to_BMI/Data/Images_vip/f_365.jpg  \n",
            "  inflating: Face_to_BMI/Data/Images_vip/f_366.jpg  \n",
            "  inflating: Face_to_BMI/Data/Images_vip/f_367.jpg  \n",
            "  inflating: Face_to_BMI/Data/Images_vip/f_368.jpg  \n",
            "  inflating: Face_to_BMI/Data/Images_vip/f_369.jpg  \n",
            "  inflating: Face_to_BMI/Data/Images_vip/f_370.jpg  \n",
            "  inflating: Face_to_BMI/Data/Images_vip/f_371.jpg  \n",
            "  inflating: Face_to_BMI/Data/Images_vip/f_372.jpg  \n",
            "  inflating: Face_to_BMI/Data/Images_vip/f_373.jpg  \n",
            "  inflating: Face_to_BMI/Data/Images_vip/f_374.jpg  \n",
            "  inflating: Face_to_BMI/Data/Images_vip/f_375.jpg  \n",
            "  inflating: Face_to_BMI/Data/Images_vip/f_376.jpg  \n",
            "  inflating: Face_to_BMI/Data/Images_vip/f_377.jpg  \n",
            "  inflating: Face_to_BMI/Data/Images_vip/f_378.jpg  \n",
            "  inflating: Face_to_BMI/Data/Images_vip/f_379.jpg  \n",
            "  inflating: Face_to_BMI/Data/Images_vip/f_380.jpg  \n",
            "  inflating: Face_to_BMI/Data/Images_vip/f_381.jpg  \n",
            "  inflating: Face_to_BMI/Data/Images_vip/f_382.jpg  \n",
            "  inflating: Face_to_BMI/Data/Images_vip/f_383.jpg  \n",
            "  inflating: Face_to_BMI/Data/Images_vip/f_384.jpg  \n",
            "  inflating: Face_to_BMI/Data/Images_vip/f_385.jpg  \n",
            "  inflating: Face_to_BMI/Data/Images_vip/f_386.jpg  \n",
            "  inflating: Face_to_BMI/Data/Images_vip/f_387.jpg  \n",
            "  inflating: Face_to_BMI/Data/Images_vip/f_388.jpg  \n",
            "  inflating: Face_to_BMI/Data/Images_vip/f_389.jpg  \n",
            "  inflating: Face_to_BMI/Data/Images_vip/f_390.jpg  \n",
            "  inflating: Face_to_BMI/Data/Images_vip/f_391.jpg  \n",
            "  inflating: Face_to_BMI/Data/Images_vip/f_392.jpg  \n",
            "  inflating: Face_to_BMI/Data/Images_vip/f_393.jpg  \n",
            "  inflating: Face_to_BMI/Data/Images_vip/f_394.jpg  \n",
            "  inflating: Face_to_BMI/Data/Images_vip/f_395.jpg  \n",
            "  inflating: Face_to_BMI/Data/Images_vip/f_396.jpg  \n",
            "  inflating: Face_to_BMI/Data/Images_vip/f_397.jpg  \n",
            "  inflating: Face_to_BMI/Data/Images_vip/f_398.jpg  \n",
            "  inflating: Face_to_BMI/Data/Images_vip/f_399.jpg  \n",
            "  inflating: Face_to_BMI/Data/Images_vip/f_400.jpg  \n",
            "  inflating: Face_to_BMI/Data/Images_vip/f_401.jpg  \n",
            "  inflating: Face_to_BMI/Data/Images_vip/f_402.jpg  \n",
            "  inflating: Face_to_BMI/Data/Images_vip/f_403.jpg  \n",
            "  inflating: Face_to_BMI/Data/Images_vip/f_404.jpg  \n",
            "  inflating: Face_to_BMI/Data/Images_vip/f_405.jpg  \n",
            "  inflating: Face_to_BMI/Data/Images_vip/f_406.jpg  \n",
            "  inflating: Face_to_BMI/Data/Images_vip/f_407.jpg  \n",
            "  inflating: Face_to_BMI/Data/Images_vip/f_408.jpg  \n",
            "  inflating: Face_to_BMI/Data/Images_vip/f_409.jpg  \n",
            "  inflating: Face_to_BMI/Data/Images_vip/f_410.jpg  \n",
            "  inflating: Face_to_BMI/Data/Images_vip/f_411.jpg  \n",
            "  inflating: Face_to_BMI/Data/Images_vip/f_412.jpg  \n",
            "  inflating: Face_to_BMI/Data/Images_vip/f_413.jpg  \n",
            "  inflating: Face_to_BMI/Data/Images_vip/f_414.jpg  \n",
            "  inflating: Face_to_BMI/Data/Images_vip/f_415.jpg  \n",
            "  inflating: Face_to_BMI/Data/Images_vip/f_416.jpg  \n",
            "  inflating: Face_to_BMI/Data/Images_vip/f_417.jpg  \n",
            "  inflating: Face_to_BMI/Data/Images_vip/f_418.jpg  \n",
            "  inflating: Face_to_BMI/Data/Images_vip/f_419.jpg  \n",
            "  inflating: Face_to_BMI/Data/Images_vip/f_420.jpg  \n",
            "  inflating: Face_to_BMI/Data/Images_vip/f_421.jpg  \n",
            "  inflating: Face_to_BMI/Data/Images_vip/f_422.jpg  \n",
            "  inflating: Face_to_BMI/Data/Images_vip/f_423.jpg  \n",
            "  inflating: Face_to_BMI/Data/Images_vip/f_424.jpg  \n",
            "  inflating: Face_to_BMI/Data/Images_vip/f_425.jpg  \n",
            "  inflating: Face_to_BMI/Data/Images_vip/f_426.jpg  \n",
            "  inflating: Face_to_BMI/Data/Images_vip/f_427.jpg  \n",
            "  inflating: Face_to_BMI/Data/Images_vip/f_428.jpg  \n",
            "  inflating: Face_to_BMI/Data/Images_vip/f_429.jpg  \n",
            "  inflating: Face_to_BMI/Data/Images_vip/f_430.jpg  \n",
            "  inflating: Face_to_BMI/Data/Images_vip/f_431.jpg  \n",
            "  inflating: Face_to_BMI/Data/Images_vip/f_432.jpg  \n",
            "  inflating: Face_to_BMI/Data/Images_vip/f_433.jpg  \n",
            "  inflating: Face_to_BMI/Data/Images_vip/f_434.jpg  \n",
            "  inflating: Face_to_BMI/Data/Images_vip/f_435.jpg  \n",
            "  inflating: Face_to_BMI/Data/Images_vip/f_436.jpg  \n",
            "  inflating: Face_to_BMI/Data/Images_vip/f_437.jpg  \n",
            "  inflating: Face_to_BMI/Data/Images_vip/f_438.jpg  \n",
            "  inflating: Face_to_BMI/Data/Images_vip/f_439.jpg  \n",
            "  inflating: Face_to_BMI/Data/Images_vip/f_440.jpg  \n",
            "  inflating: Face_to_BMI/Data/Images_vip/f_441.jpg  \n",
            "  inflating: Face_to_BMI/Data/Images_vip/f_442.jpg  \n",
            "  inflating: Face_to_BMI/Data/Images_vip/f_443.jpg  \n",
            "  inflating: Face_to_BMI/Data/Images_vip/f_444.jpg  \n",
            "  inflating: Face_to_BMI/Data/Images_vip/f_445.jpg  \n",
            "  inflating: Face_to_BMI/Data/Images_vip/f_446.jpg  \n",
            "  inflating: Face_to_BMI/Data/Images_vip/f_447.jpg  \n",
            "  inflating: Face_to_BMI/Data/Images_vip/f_448.jpg  \n",
            "  inflating: Face_to_BMI/Data/Images_vip/f_449.jpg  \n",
            "  inflating: Face_to_BMI/Data/Images_vip/f_450.jpg  \n",
            "  inflating: Face_to_BMI/Data/Images_vip/f_451.jpg  \n",
            "  inflating: Face_to_BMI/Data/Images_vip/f_452.jpg  \n",
            "  inflating: Face_to_BMI/Data/Images_vip/f_453.jpg  \n",
            "  inflating: Face_to_BMI/Data/Images_vip/f_454.jpg  \n",
            "  inflating: Face_to_BMI/Data/Images_vip/f_455.jpg  \n",
            "  inflating: Face_to_BMI/Data/Images_vip/f_456.jpg  \n",
            "  inflating: Face_to_BMI/Data/Images_vip/f_457.jpg  \n",
            "  inflating: Face_to_BMI/Data/Images_vip/f_458.jpg  \n",
            "  inflating: Face_to_BMI/Data/Images_vip/f_459.jpg  \n",
            "  inflating: Face_to_BMI/Data/Images_vip/f_460.jpg  \n",
            "  inflating: Face_to_BMI/Data/Images_vip/f_461.jpg  \n",
            "  inflating: Face_to_BMI/Data/Images_vip/f_462.jpg  \n",
            "  inflating: Face_to_BMI/Data/Images_vip/f_463.jpg  \n",
            "  inflating: Face_to_BMI/Data/Images_vip/f_464.jpg  \n",
            "  inflating: Face_to_BMI/Data/Images_vip/f_465.jpg  \n",
            "  inflating: Face_to_BMI/Data/Images_vip/f_466.jpg  \n",
            "  inflating: Face_to_BMI/Data/Images_vip/f_467.jpg  \n",
            "  inflating: Face_to_BMI/Data/Images_vip/f_468.jpg  \n",
            "  inflating: Face_to_BMI/Data/Images_vip/f_469.jpg  \n",
            "  inflating: Face_to_BMI/Data/Images_vip/f_470.jpg  \n",
            "  inflating: Face_to_BMI/Data/Images_vip/f_471.jpg  \n",
            "  inflating: Face_to_BMI/Data/Images_vip/f_472.jpg  \n",
            "  inflating: Face_to_BMI/Data/Images_vip/f_473.jpg  \n",
            "  inflating: Face_to_BMI/Data/Images_vip/f_474.jpg  \n",
            "  inflating: Face_to_BMI/Data/Images_vip/f_475.jpg  \n",
            "  inflating: Face_to_BMI/Data/Images_vip/f_476.jpg  \n",
            "  inflating: Face_to_BMI/Data/Images_vip/f_477.jpg  \n",
            "  inflating: Face_to_BMI/Data/Images_vip/f_478.jpg  \n",
            "  inflating: Face_to_BMI/Data/Images_vip/f_479.jpg  \n",
            "  inflating: Face_to_BMI/Data/Images_vip/f_480.jpg  \n",
            "  inflating: Face_to_BMI/Data/Images_vip/f_481.jpg  \n",
            "  inflating: Face_to_BMI/Data/Images_vip/f_482.jpg  \n",
            "  inflating: Face_to_BMI/Data/Images_vip/f_483.JPG  \n",
            "  inflating: Face_to_BMI/Data/Images_vip/f_484.jpg  \n",
            "  inflating: Face_to_BMI/Data/Images_vip/f_485.jpg  \n",
            "  inflating: Face_to_BMI/Data/Images_vip/f_486.jpg  \n",
            "  inflating: Face_to_BMI/Data/Images_vip/f_487.JPG  \n",
            "  inflating: Face_to_BMI/Data/Images_vip/f_488.jpg  \n",
            "  inflating: Face_to_BMI/Data/Images_vip/f_489.jpg  \n",
            "  inflating: Face_to_BMI/Data/Images_vip/f_490.jpg  \n",
            "  inflating: Face_to_BMI/Data/Images_vip/f_491.jpg  \n",
            "  inflating: Face_to_BMI/Data/Images_vip/f_492.jpg  \n",
            "  inflating: Face_to_BMI/Data/Images_vip/f_493.jpg  \n",
            "  inflating: Face_to_BMI/Data/Images_vip/f_494.jpg  \n",
            "  inflating: Face_to_BMI/Data/Images_vip/f_495.jpg  \n",
            "  inflating: Face_to_BMI/Data/Images_vip/f_496.jpg  \n",
            "  inflating: Face_to_BMI/Data/Images_vip/f_497.jpg  \n",
            "  inflating: Face_to_BMI/Data/Images_vip/f_498.jpg  \n",
            "  inflating: Face_to_BMI/Data/Images_vip/f_499.jpg  \n",
            "  inflating: Face_to_BMI/Data/Images_vip/f_500.jpg  \n",
            "  inflating: Face_to_BMI/Data/Images_vip/f_501.jpg  \n",
            "  inflating: Face_to_BMI/Data/Images_vip/f_502.jpg  \n",
            "  inflating: Face_to_BMI/Data/Images_vip/f_503.jpg  \n",
            "  inflating: Face_to_BMI/Data/Images_vip/f_504.jpg  \n",
            "  inflating: Face_to_BMI/Data/Images_vip/f_505.jpg  \n",
            "  inflating: Face_to_BMI/Data/Images_vip/f_506.jpg  \n",
            "  inflating: Face_to_BMI/Data/Images_vip/f_507.jpg  \n",
            "  inflating: Face_to_BMI/Data/Images_vip/f_508.jpg  \n",
            "  inflating: Face_to_BMI/Data/Images_vip/f_509.jpg  \n",
            "  inflating: Face_to_BMI/Data/Images_vip/f_510.jpg  \n",
            "  inflating: Face_to_BMI/Data/Images_vip/f_511.jpg  \n",
            "  inflating: Face_to_BMI/Data/Images_vip/f_512.jpg  \n",
            "  inflating: Face_to_BMI/Data/Images_vip/f_513.jpg  \n",
            "  inflating: Face_to_BMI/Data/Images_vip/m_001.jpg  \n",
            "  inflating: Face_to_BMI/Data/Images_vip/m_002.jpg  \n",
            "  inflating: Face_to_BMI/Data/Images_vip/m_003.jpg  \n",
            "  inflating: Face_to_BMI/Data/Images_vip/m_004.jpg  \n",
            "  inflating: Face_to_BMI/Data/Images_vip/m_005.jpg  \n",
            "  inflating: Face_to_BMI/Data/Images_vip/m_006.jpg  \n",
            "  inflating: Face_to_BMI/Data/Images_vip/m_007.jpg  \n",
            "  inflating: Face_to_BMI/Data/Images_vip/m_008.jpg  \n",
            "  inflating: Face_to_BMI/Data/Images_vip/m_009.jpg  \n",
            "  inflating: Face_to_BMI/Data/Images_vip/m_010.jpg  \n",
            "  inflating: Face_to_BMI/Data/Images_vip/m_011.jpg  \n",
            "  inflating: Face_to_BMI/Data/Images_vip/m_012.jpg  \n",
            "  inflating: Face_to_BMI/Data/Images_vip/m_013.jpg  \n",
            "  inflating: Face_to_BMI/Data/Images_vip/m_014.jpg  \n",
            "  inflating: Face_to_BMI/Data/Images_vip/m_015.jpg  \n",
            "  inflating: Face_to_BMI/Data/Images_vip/m_016.jpg  \n",
            "  inflating: Face_to_BMI/Data/Images_vip/m_017.jpg  \n",
            "  inflating: Face_to_BMI/Data/Images_vip/m_018.jpg  \n",
            "  inflating: Face_to_BMI/Data/Images_vip/m_019.jpg  \n",
            "  inflating: Face_to_BMI/Data/Images_vip/m_020.jpg  \n",
            "  inflating: Face_to_BMI/Data/Images_vip/m_021.jpg  \n",
            "  inflating: Face_to_BMI/Data/Images_vip/m_022.jpg  \n",
            "  inflating: Face_to_BMI/Data/Images_vip/m_023.jpg  \n",
            "  inflating: Face_to_BMI/Data/Images_vip/m_024.jpg  \n",
            "  inflating: Face_to_BMI/Data/Images_vip/m_025.jpg  \n",
            "  inflating: Face_to_BMI/Data/Images_vip/m_026.jpg  \n",
            "  inflating: Face_to_BMI/Data/Images_vip/m_027.jpg  \n",
            "  inflating: Face_to_BMI/Data/Images_vip/m_028.jpg  \n",
            "  inflating: Face_to_BMI/Data/Images_vip/m_029.jpg  \n",
            "  inflating: Face_to_BMI/Data/Images_vip/m_030.jpg  \n",
            "  inflating: Face_to_BMI/Data/Images_vip/m_031.jpg  \n",
            "  inflating: Face_to_BMI/Data/Images_vip/m_032.jpg  \n",
            "  inflating: Face_to_BMI/Data/Images_vip/m_033.jpg  \n",
            "  inflating: Face_to_BMI/Data/Images_vip/m_034.jpg  \n",
            "  inflating: Face_to_BMI/Data/Images_vip/m_035.jpg  \n",
            "  inflating: Face_to_BMI/Data/Images_vip/m_036.jpg  \n",
            "  inflating: Face_to_BMI/Data/Images_vip/m_037.jpg  \n",
            "  inflating: Face_to_BMI/Data/Images_vip/m_038.jpg  \n",
            "  inflating: Face_to_BMI/Data/Images_vip/m_039.jpg  \n",
            "  inflating: Face_to_BMI/Data/Images_vip/m_040.jpg  \n",
            "  inflating: Face_to_BMI/Data/Images_vip/m_041.jpg  \n",
            "  inflating: Face_to_BMI/Data/Images_vip/m_042.jpg  \n",
            "  inflating: Face_to_BMI/Data/Images_vip/m_043.jpg  \n",
            "  inflating: Face_to_BMI/Data/Images_vip/m_044.jpg  \n",
            "  inflating: Face_to_BMI/Data/Images_vip/m_045.jpg  \n",
            "  inflating: Face_to_BMI/Data/Images_vip/m_046.jpg  \n",
            "  inflating: Face_to_BMI/Data/Images_vip/m_047.jpg  \n",
            "  inflating: Face_to_BMI/Data/Images_vip/m_048.jpg  \n",
            "  inflating: Face_to_BMI/Data/Images_vip/m_049.jpg  \n",
            "  inflating: Face_to_BMI/Data/Images_vip/m_050.jpg  \n",
            "  inflating: Face_to_BMI/Data/Images_vip/m_051.jpg  \n",
            "  inflating: Face_to_BMI/Data/Images_vip/m_052.jpg  \n",
            "  inflating: Face_to_BMI/Data/Images_vip/m_053.jpg  \n",
            "  inflating: Face_to_BMI/Data/Images_vip/m_054.jpg  \n",
            "  inflating: Face_to_BMI/Data/Images_vip/m_055.jpg  \n",
            "  inflating: Face_to_BMI/Data/Images_vip/m_056.jpg  \n",
            "  inflating: Face_to_BMI/Data/Images_vip/m_057.jpg  \n",
            "  inflating: Face_to_BMI/Data/Images_vip/m_058.jpg  \n",
            "  inflating: Face_to_BMI/Data/Images_vip/m_059.jpg  \n",
            "  inflating: Face_to_BMI/Data/Images_vip/m_060.jpg  \n",
            "  inflating: Face_to_BMI/Data/Images_vip/m_061.jpg  \n",
            "  inflating: Face_to_BMI/Data/Images_vip/m_062.jpg  \n",
            "  inflating: Face_to_BMI/Data/Images_vip/m_063.jpg  \n",
            "  inflating: Face_to_BMI/Data/Images_vip/m_064.jpg  \n",
            "  inflating: Face_to_BMI/Data/Images_vip/m_065.jpg  \n",
            "  inflating: Face_to_BMI/Data/Images_vip/m_066.jpg  \n",
            "  inflating: Face_to_BMI/Data/Images_vip/m_067.jpg  \n",
            "  inflating: Face_to_BMI/Data/Images_vip/m_068.jpg  \n",
            "  inflating: Face_to_BMI/Data/Images_vip/m_069.jpg  \n",
            "  inflating: Face_to_BMI/Data/Images_vip/m_070.jpg  \n",
            "  inflating: Face_to_BMI/Data/Images_vip/m_071.jpg  \n",
            "  inflating: Face_to_BMI/Data/Images_vip/m_072.jpg  \n",
            "  inflating: Face_to_BMI/Data/Images_vip/m_073.jpg  \n",
            "  inflating: Face_to_BMI/Data/Images_vip/m_074.jpg  \n",
            "  inflating: Face_to_BMI/Data/Images_vip/m_075.jpg  \n",
            "  inflating: Face_to_BMI/Data/Images_vip/m_076.jpg  \n",
            "  inflating: Face_to_BMI/Data/Images_vip/m_077.jpg  \n",
            "  inflating: Face_to_BMI/Data/Images_vip/m_078.jpg  \n",
            "  inflating: Face_to_BMI/Data/Images_vip/m_079.jpg  \n",
            "  inflating: Face_to_BMI/Data/Images_vip/m_080.jpg  \n",
            "  inflating: Face_to_BMI/Data/Images_vip/m_081.jpg  \n",
            "  inflating: Face_to_BMI/Data/Images_vip/m_082.jpg  \n",
            "  inflating: Face_to_BMI/Data/Images_vip/m_083.jpg  \n",
            "  inflating: Face_to_BMI/Data/Images_vip/m_084.jpg  \n",
            "  inflating: Face_to_BMI/Data/Images_vip/m_085.jpg  \n",
            "  inflating: Face_to_BMI/Data/Images_vip/m_086.jpg  \n",
            "  inflating: Face_to_BMI/Data/Images_vip/m_087.jpg  \n",
            "  inflating: Face_to_BMI/Data/Images_vip/m_088.jpg  \n",
            "  inflating: Face_to_BMI/Data/Images_vip/m_089.jpg  \n",
            "  inflating: Face_to_BMI/Data/Images_vip/m_090.jpg  \n",
            "  inflating: Face_to_BMI/Data/Images_vip/m_091.jpg  \n",
            "  inflating: Face_to_BMI/Data/Images_vip/m_092.jpg  \n",
            "  inflating: Face_to_BMI/Data/Images_vip/m_093.jpg  \n",
            "  inflating: Face_to_BMI/Data/Images_vip/m_094.jpg  \n",
            "  inflating: Face_to_BMI/Data/Images_vip/m_095.jpg  \n",
            "  inflating: Face_to_BMI/Data/Images_vip/m_096.jpg  \n",
            "  inflating: Face_to_BMI/Data/Images_vip/m_097.jpg  \n",
            "  inflating: Face_to_BMI/Data/Images_vip/m_098.jpg  \n",
            "  inflating: Face_to_BMI/Data/Images_vip/m_099.jpg  \n",
            "  inflating: Face_to_BMI/Data/Images_vip/m_100.jpg  \n",
            "  inflating: Face_to_BMI/Data/Images_vip/m_101.jpg  \n",
            "  inflating: Face_to_BMI/Data/Images_vip/m_102.jpg  \n",
            "  inflating: Face_to_BMI/Data/Images_vip/m_103.jpg  \n",
            "  inflating: Face_to_BMI/Data/Images_vip/m_104.jpg  \n",
            "  inflating: Face_to_BMI/Data/Images_vip/m_105.jpg  \n",
            "  inflating: Face_to_BMI/Data/Images_vip/m_106.jpg  \n",
            "  inflating: Face_to_BMI/Data/Images_vip/m_107.jpg  \n",
            "  inflating: Face_to_BMI/Data/Images_vip/m_108.jpg  \n",
            "  inflating: Face_to_BMI/Data/Images_vip/m_109.jpg  \n",
            "  inflating: Face_to_BMI/Data/Images_vip/m_110.jpg  \n",
            "  inflating: Face_to_BMI/Data/Images_vip/m_111.jpg  \n",
            "  inflating: Face_to_BMI/Data/Images_vip/m_112.jpg  \n",
            "  inflating: Face_to_BMI/Data/Images_vip/m_113.jpg  \n",
            "  inflating: Face_to_BMI/Data/Images_vip/m_114.jpg  \n",
            "  inflating: Face_to_BMI/Data/Images_vip/m_115.jpg  \n",
            "  inflating: Face_to_BMI/Data/Images_vip/m_116.jpg  \n",
            "  inflating: Face_to_BMI/Data/Images_vip/m_117.jpg  \n",
            "  inflating: Face_to_BMI/Data/Images_vip/m_118.jpg  \n",
            "  inflating: Face_to_BMI/Data/Images_vip/m_119.jpg  \n",
            "  inflating: Face_to_BMI/Data/Images_vip/m_120.jpg  \n",
            "  inflating: Face_to_BMI/Data/Images_vip/m_121.jpg  \n",
            "  inflating: Face_to_BMI/Data/Images_vip/m_122.jpg  \n",
            "  inflating: Face_to_BMI/Data/Images_vip/m_123.jpg  \n",
            "  inflating: Face_to_BMI/Data/Images_vip/m_124.jpg  \n",
            "  inflating: Face_to_BMI/Data/Images_vip/m_125.jpg  \n",
            "  inflating: Face_to_BMI/Data/Images_vip/m_126.jpg  \n",
            "  inflating: Face_to_BMI/Data/Images_vip/m_127.jpg  \n",
            "  inflating: Face_to_BMI/Data/Images_vip/m_128.jpg  \n",
            "  inflating: Face_to_BMI/Data/Images_vip/m_129.jpg  \n",
            "  inflating: Face_to_BMI/Data/Images_vip/m_130.jpg  \n",
            "  inflating: Face_to_BMI/Data/Images_vip/m_131.jpg  \n",
            "  inflating: Face_to_BMI/Data/Images_vip/m_132.jpg  \n",
            "  inflating: Face_to_BMI/Data/Images_vip/m_133.jpg  \n",
            "  inflating: Face_to_BMI/Data/Images_vip/m_134.jpg  \n",
            "  inflating: Face_to_BMI/Data/Images_vip/m_135.jpg  \n",
            "  inflating: Face_to_BMI/Data/Images_vip/m_136.jpg  \n",
            "  inflating: Face_to_BMI/Data/Images_vip/m_137.jpg  \n",
            "  inflating: Face_to_BMI/Data/Images_vip/m_138.jpg  \n",
            "  inflating: Face_to_BMI/Data/Images_vip/m_139.jpg  \n",
            "  inflating: Face_to_BMI/Data/Images_vip/m_140.jpg  \n",
            "  inflating: Face_to_BMI/Data/Images_vip/m_141.jpg  \n",
            "  inflating: Face_to_BMI/Data/Images_vip/m_142.jpg  \n",
            "  inflating: Face_to_BMI/Data/Images_vip/m_143.jpg  \n",
            "  inflating: Face_to_BMI/Data/Images_vip/m_144.jpg  \n",
            "  inflating: Face_to_BMI/Data/Images_vip/m_145.jpg  \n",
            "  inflating: Face_to_BMI/Data/Images_vip/m_146.jpg  \n",
            "  inflating: Face_to_BMI/Data/Images_vip/m_147.jpg  \n",
            "  inflating: Face_to_BMI/Data/Images_vip/m_148.jpg  \n",
            "  inflating: Face_to_BMI/Data/Images_vip/m_149.jpg  \n",
            "  inflating: Face_to_BMI/Data/Images_vip/m_150.jpg  \n",
            "  inflating: Face_to_BMI/Data/Images_vip/m_151.jpg  \n",
            "  inflating: Face_to_BMI/Data/Images_vip/m_152.jpg  \n",
            "  inflating: Face_to_BMI/Data/Images_vip/m_153.jpg  \n",
            "  inflating: Face_to_BMI/Data/Images_vip/m_154.jpg  \n",
            "  inflating: Face_to_BMI/Data/Images_vip/m_155.jpg  \n",
            "  inflating: Face_to_BMI/Data/Images_vip/m_156.jpg  \n",
            "  inflating: Face_to_BMI/Data/Images_vip/m_157.jpg  \n",
            "  inflating: Face_to_BMI/Data/Images_vip/m_158.jpg  \n",
            "  inflating: Face_to_BMI/Data/Images_vip/m_159.jpg  \n",
            "  inflating: Face_to_BMI/Data/Images_vip/m_160.jpg  \n",
            "  inflating: Face_to_BMI/Data/Images_vip/m_161.jpg  \n",
            "  inflating: Face_to_BMI/Data/Images_vip/m_162.jpg  \n",
            "  inflating: Face_to_BMI/Data/Images_vip/m_163.jpg  \n",
            "  inflating: Face_to_BMI/Data/Images_vip/m_164.jpg  \n",
            "  inflating: Face_to_BMI/Data/Images_vip/m_165.jpg  \n",
            "  inflating: Face_to_BMI/Data/Images_vip/m_166.jpg  \n",
            "  inflating: Face_to_BMI/Data/Images_vip/m_167.jpg  \n",
            "  inflating: Face_to_BMI/Data/Images_vip/m_168.jpg  \n",
            "  inflating: Face_to_BMI/Data/Images_vip/m_169.jpg  \n",
            "  inflating: Face_to_BMI/Data/Images_vip/m_170.jpg  \n",
            "  inflating: Face_to_BMI/Data/Images_vip/m_171.jpg  \n",
            "  inflating: Face_to_BMI/Data/Images_vip/m_172.jpg  \n",
            "  inflating: Face_to_BMI/Data/Images_vip/m_173.jpg  \n",
            "  inflating: Face_to_BMI/Data/Images_vip/m_174.jpg  \n",
            "  inflating: Face_to_BMI/Data/Images_vip/m_175.jpg  \n",
            "  inflating: Face_to_BMI/Data/Images_vip/m_176.jpg  \n",
            "  inflating: Face_to_BMI/Data/Images_vip/m_177.jpg  \n",
            "  inflating: Face_to_BMI/Data/Images_vip/m_178.jpg  \n",
            "  inflating: Face_to_BMI/Data/Images_vip/m_179.jpg  \n",
            "  inflating: Face_to_BMI/Data/Images_vip/m_180.jpg  \n",
            "  inflating: Face_to_BMI/Data/Images_vip/m_181.jpg  \n",
            "  inflating: Face_to_BMI/Data/Images_vip/m_182.jpg  \n",
            "  inflating: Face_to_BMI/Data/Images_vip/m_183.jpg  \n",
            "  inflating: Face_to_BMI/Data/Images_vip/m_184.jpg  \n",
            "  inflating: Face_to_BMI/Data/Images_vip/m_185.jpg  \n",
            "  inflating: Face_to_BMI/Data/Images_vip/m_186.jpg  \n",
            "  inflating: Face_to_BMI/Data/Images_vip/m_187.jpg  \n",
            "  inflating: Face_to_BMI/Data/Images_vip/m_188.jpg  \n",
            "  inflating: Face_to_BMI/Data/Images_vip/m_189.jpg  \n",
            "  inflating: Face_to_BMI/Data/Images_vip/m_190.jpg  \n",
            "  inflating: Face_to_BMI/Data/Images_vip/m_191.jpg  \n",
            "  inflating: Face_to_BMI/Data/Images_vip/m_192.jpg  \n",
            "  inflating: Face_to_BMI/Data/Images_vip/m_193.jpg  \n",
            "  inflating: Face_to_BMI/Data/Images_vip/m_194.jpg  \n",
            "  inflating: Face_to_BMI/Data/Images_vip/m_195.jpg  \n",
            "  inflating: Face_to_BMI/Data/Images_vip/m_196.jpg  \n",
            "  inflating: Face_to_BMI/Data/Images_vip/m_197.jpg  \n",
            "  inflating: Face_to_BMI/Data/Images_vip/m_198.jpg  \n",
            "  inflating: Face_to_BMI/Data/Images_vip/m_199.jpg  \n",
            "  inflating: Face_to_BMI/Data/Images_vip/m_200.jpg  \n",
            "  inflating: Face_to_BMI/Data/Images_vip/m_201.jpg  \n",
            "  inflating: Face_to_BMI/Data/Images_vip/m_202.jpg  \n",
            "  inflating: Face_to_BMI/Data/Images_vip/m_203.jpg  \n",
            "  inflating: Face_to_BMI/Data/Images_vip/m_204.jpg  \n",
            "  inflating: Face_to_BMI/Data/Images_vip/m_205.jpg  \n",
            "  inflating: Face_to_BMI/Data/Images_vip/m_206.jpg  \n",
            "  inflating: Face_to_BMI/Data/Images_vip/m_207.jpg  \n",
            "  inflating: Face_to_BMI/Data/Images_vip/m_208.jpg  \n",
            "  inflating: Face_to_BMI/Data/Images_vip/m_209.jpg  \n",
            "  inflating: Face_to_BMI/Data/Images_vip/m_210.jpg  \n",
            "  inflating: Face_to_BMI/Data/Images_vip/m_211.jpg  \n",
            "  inflating: Face_to_BMI/Data/Images_vip/m_212.jpg  \n",
            "  inflating: Face_to_BMI/Data/Images_vip/m_213.jpg  \n",
            "  inflating: Face_to_BMI/Data/Images_vip/m_214.jpg  \n",
            "  inflating: Face_to_BMI/Data/Images_vip/m_215.jpg  \n",
            "  inflating: Face_to_BMI/Data/Images_vip/m_216.jpg  \n",
            "  inflating: Face_to_BMI/Data/Images_vip/m_217.jpg  \n",
            "  inflating: Face_to_BMI/Data/Images_vip/m_218.jpg  \n",
            "  inflating: Face_to_BMI/Data/Images_vip/m_219.jpg  \n",
            "  inflating: Face_to_BMI/Data/Images_vip/m_220.jpg  \n",
            "  inflating: Face_to_BMI/Data/Images_vip/m_221.jpg  \n",
            "  inflating: Face_to_BMI/Data/Images_vip/m_222.jpg  \n",
            "  inflating: Face_to_BMI/Data/Images_vip/m_223.jpg  \n",
            "  inflating: Face_to_BMI/Data/Images_vip/m_224.jpg  \n",
            "  inflating: Face_to_BMI/Data/Images_vip/m_225.jpg  \n",
            "  inflating: Face_to_BMI/Data/Images_vip/m_226.jpg  \n",
            "  inflating: Face_to_BMI/Data/Images_vip/m_227.jpg  \n",
            "  inflating: Face_to_BMI/Data/Images_vip/m_228.jpg  \n",
            "  inflating: Face_to_BMI/Data/Images_vip/m_229.jpg  \n",
            "  inflating: Face_to_BMI/Data/Images_vip/m_230.jpg  \n",
            "  inflating: Face_to_BMI/Data/Images_vip/m_231.jpg  \n",
            "  inflating: Face_to_BMI/Data/Images_vip/m_232.jpg  \n",
            "  inflating: Face_to_BMI/Data/Images_vip/m_233.jpg  \n",
            "  inflating: Face_to_BMI/Data/Images_vip/m_234.jpg  \n",
            "  inflating: Face_to_BMI/Data/Images_vip/m_235.jpg  \n",
            "  inflating: Face_to_BMI/Data/Images_vip/m_236.jpg  \n",
            "  inflating: Face_to_BMI/Data/Images_vip/m_237.jpg  \n",
            "  inflating: Face_to_BMI/Data/Images_vip/m_238.jpg  \n",
            "  inflating: Face_to_BMI/Data/Images_vip/m_239.jpg  \n",
            "  inflating: Face_to_BMI/Data/Images_vip/m_240.jpg  \n",
            "  inflating: Face_to_BMI/Data/Images_vip/m_241.jpg  \n",
            "  inflating: Face_to_BMI/Data/Images_vip/m_242.jpg  \n",
            "  inflating: Face_to_BMI/Data/Images_vip/m_243.jpg  \n",
            "  inflating: Face_to_BMI/Data/Images_vip/m_244.jpg  \n",
            "  inflating: Face_to_BMI/Data/Images_vip/m_245.jpg  \n",
            "  inflating: Face_to_BMI/Data/Images_vip/m_246.JPG  \n",
            "  inflating: Face_to_BMI/Data/Images_vip/m_247.jpg  \n",
            "  inflating: Face_to_BMI/Data/Images_vip/m_248.jpg  \n",
            "  inflating: Face_to_BMI/Data/Images_vip/m_249.jpg  \n",
            "  inflating: Face_to_BMI/Data/Images_vip/m_250.jpg  \n",
            "  inflating: Face_to_BMI/Data/Images_vip/m_251.jpg  \n",
            "  inflating: Face_to_BMI/Data/Images_vip/m_252.jpg  \n",
            "  inflating: Face_to_BMI/Data/Images_vip/m_253.jpg  \n",
            "  inflating: Face_to_BMI/Data/Images_vip/m_254.jpg  \n",
            "  inflating: Face_to_BMI/Data/Images_vip/m_255.jpg  \n",
            "  inflating: Face_to_BMI/Data/Images_vip/m_256.jpg  \n",
            "  inflating: Face_to_BMI/Data/Images_vip/m_257.jpg  \n",
            "  inflating: Face_to_BMI/Data/Images_vip/m_258.jpg  \n",
            "  inflating: Face_to_BMI/Data/Images_vip/m_259.jpg  \n",
            "  inflating: Face_to_BMI/Data/Images_vip/m_260.jpg  \n",
            "  inflating: Face_to_BMI/Data/Images_vip/m_261.jpg  \n",
            "  inflating: Face_to_BMI/Data/Images_vip/m_262.jpg  \n",
            "  inflating: Face_to_BMI/Data/Images_vip/m_263.jpg  \n",
            "  inflating: Face_to_BMI/Data/Images_vip/m_264.jpg  \n",
            "  inflating: Face_to_BMI/Data/Images_vip/m_265.jpg  \n",
            "  inflating: Face_to_BMI/Data/Images_vip/m_266.jpg  \n",
            "  inflating: Face_to_BMI/Data/Images_vip/m_267.jpg  \n",
            "  inflating: Face_to_BMI/Data/Images_vip/m_268.jpg  \n",
            "  inflating: Face_to_BMI/Data/Images_vip/m_269.jpg  \n",
            "  inflating: Face_to_BMI/Data/Images_vip/m_270.jpg  \n",
            "  inflating: Face_to_BMI/Data/Images_vip/m_271.jpg  \n",
            "  inflating: Face_to_BMI/Data/Images_vip/m_272.jpg  \n",
            "  inflating: Face_to_BMI/Data/Images_vip/m_273.jpg  \n",
            "  inflating: Face_to_BMI/Data/Images_vip/m_274.jpg  \n",
            "  inflating: Face_to_BMI/Data/Images_vip/m_275.jpg  \n",
            "  inflating: Face_to_BMI/Data/Images_vip/m_276.jpg  \n",
            "  inflating: Face_to_BMI/Data/Images_vip/m_277.jpg  \n",
            "  inflating: Face_to_BMI/Data/Images_vip/m_278.jpg  \n",
            "  inflating: Face_to_BMI/Data/Images_vip/m_279.jpg  \n",
            "  inflating: Face_to_BMI/Data/Images_vip/m_280.jpg  \n",
            "  inflating: Face_to_BMI/Data/Images_vip/m_281.jpg  \n",
            "  inflating: Face_to_BMI/Data/Images_vip/m_282.jpg  \n",
            "  inflating: Face_to_BMI/Data/Images_vip/m_283.jpg  \n",
            "  inflating: Face_to_BMI/Data/Images_vip/m_284.jpg  \n",
            "  inflating: Face_to_BMI/Data/Images_vip/m_285.jpg  \n",
            "  inflating: Face_to_BMI/Data/Images_vip/m_286.jpg  \n",
            "  inflating: Face_to_BMI/Data/Images_vip/m_287.jpg  \n",
            "  inflating: Face_to_BMI/Data/Images_vip/m_288.jpg  \n",
            "  inflating: Face_to_BMI/Data/Images_vip/m_289.jpg  \n",
            "  inflating: Face_to_BMI/Data/Images_vip/m_290.jpg  \n",
            "  inflating: Face_to_BMI/Data/Images_vip/m_291.jpg  \n",
            "  inflating: Face_to_BMI/Data/Images_vip/m_292.jpg  \n",
            "  inflating: Face_to_BMI/Data/Images_vip/m_293.jpg  \n",
            "  inflating: Face_to_BMI/Data/Images_vip/m_294.jpg  \n",
            "  inflating: Face_to_BMI/Data/Images_vip/m_295.jpg  \n",
            "  inflating: Face_to_BMI/Data/Images_vip/m_296.jpg  \n",
            "  inflating: Face_to_BMI/Data/Images_vip/m_297.jpg  \n",
            "  inflating: Face_to_BMI/Data/Images_vip/m_298.jpg  \n",
            "  inflating: Face_to_BMI/Data/Images_vip/m_299.jpg  \n",
            "  inflating: Face_to_BMI/Data/Images_vip/m_300.jpg  \n",
            "  inflating: Face_to_BMI/Data/Images_vip/m_301.jpg  \n",
            "  inflating: Face_to_BMI/Data/Images_vip/m_302.jpg  \n",
            "  inflating: Face_to_BMI/Data/Images_vip/m_303.jpg  \n",
            "  inflating: Face_to_BMI/Data/Images_vip/m_304.jpg  \n",
            "  inflating: Face_to_BMI/Data/Images_vip/m_305.jpg  \n",
            "  inflating: Face_to_BMI/Data/Images_vip/m_306.jpg  \n",
            "  inflating: Face_to_BMI/Data/Images_vip/m_307.jpg  \n",
            "  inflating: Face_to_BMI/Data/Images_vip/m_308.jpg  \n",
            "  inflating: Face_to_BMI/Data/Images_vip/m_309.jpg  \n",
            "  inflating: Face_to_BMI/Data/Images_vip/m_310.jpg  \n",
            "  inflating: Face_to_BMI/Data/Images_vip/m_311.jpg  \n",
            "  inflating: Face_to_BMI/Data/Images_vip/m_312.jpg  \n",
            "  inflating: Face_to_BMI/Data/Images_vip/m_313.jpg  \n",
            "  inflating: Face_to_BMI/Data/Images_vip/m_314.jpg  \n",
            "  inflating: Face_to_BMI/Data/Images_vip/m_315.jpg  \n",
            "  inflating: Face_to_BMI/Data/Images_vip/m_316.jpg  \n",
            "  inflating: Face_to_BMI/Data/Images_vip/m_317.jpg  \n",
            "  inflating: Face_to_BMI/Data/Images_vip/m_318.jpg  \n",
            "  inflating: Face_to_BMI/Data/Images_vip/m_319.jpg  \n",
            "  inflating: Face_to_BMI/Data/Images_vip/m_320.jpg  \n",
            "  inflating: Face_to_BMI/Data/Images_vip/m_321.jpg  \n",
            "  inflating: Face_to_BMI/Data/Images_vip/m_322.jpg  \n",
            "  inflating: Face_to_BMI/Data/Images_vip/m_323.jpg  \n",
            "  inflating: Face_to_BMI/Data/Images_vip/m_324.jpg  \n",
            "  inflating: Face_to_BMI/Data/Images_vip/m_325.jpg  \n",
            "  inflating: Face_to_BMI/Data/Images_vip/m_326.jpg  \n",
            "  inflating: Face_to_BMI/Data/Images_vip/m_327.jpg  \n",
            "  inflating: Face_to_BMI/Data/Images_vip/m_328.jpg  \n",
            "  inflating: Face_to_BMI/Data/Images_vip/m_329.jpg  \n",
            "  inflating: Face_to_BMI/Data/Images_vip/m_330.jpg  \n",
            "  inflating: Face_to_BMI/Data/Images_vip/m_331.jpg  \n",
            "  inflating: Face_to_BMI/Data/Images_vip/m_332.jpg  \n",
            "  inflating: Face_to_BMI/Data/Images_vip/m_333.jpg  \n",
            "  inflating: Face_to_BMI/Data/Images_vip/m_334.jpg  \n",
            "  inflating: Face_to_BMI/Data/Images_vip/m_335.jpg  \n",
            "  inflating: Face_to_BMI/Data/Images_vip/m_336.JPG  \n",
            "  inflating: Face_to_BMI/Data/Images_vip/m_337.jpg  \n",
            "  inflating: Face_to_BMI/Data/Images_vip/m_338.jpg  \n",
            "  inflating: Face_to_BMI/Data/Images_vip/m_339.jpg  \n",
            "  inflating: Face_to_BMI/Data/Images_vip/m_340.jpg  \n",
            "  inflating: Face_to_BMI/Data/Images_vip/m_341.jpg  \n",
            "  inflating: Face_to_BMI/Data/Images_vip/m_342.jpg  \n",
            "  inflating: Face_to_BMI/Data/Images_vip/m_343.jpg  \n",
            "  inflating: Face_to_BMI/Data/Images_vip/m_344.jpg  \n",
            "  inflating: Face_to_BMI/Data/Images_vip/m_345.jpg  \n",
            "  inflating: Face_to_BMI/Data/Images_vip/m_346.jpg  \n",
            "  inflating: Face_to_BMI/Data/Images_vip/m_347.jpg  \n",
            "  inflating: Face_to_BMI/Data/Images_vip/m_348.jpg  \n",
            "  inflating: Face_to_BMI/Data/Images_vip/m_349.jpg  \n",
            "  inflating: Face_to_BMI/Data/Images_vip/m_350.jpg  \n",
            "  inflating: Face_to_BMI/Data/Images_vip/m_351.jpg  \n",
            "  inflating: Face_to_BMI/Data/Images_vip/m_352.jpg  \n",
            "  inflating: Face_to_BMI/Data/Images_vip/m_353.jpg  \n",
            "  inflating: Face_to_BMI/Data/Images_vip/m_354.jpg  \n",
            "  inflating: Face_to_BMI/Data/Images_vip/m_355.jpg  \n",
            "  inflating: Face_to_BMI/Data/Images_vip/m_356.jpg  \n",
            "  inflating: Face_to_BMI/Data/Images_vip/m_357.jpg  \n",
            "  inflating: Face_to_BMI/Data/Images_vip/m_358.jpg  \n",
            "  inflating: Face_to_BMI/Data/Images_vip/m_359.jpg  \n",
            "  inflating: Face_to_BMI/Data/Images_vip/m_360.jpg  \n",
            "  inflating: Face_to_BMI/Data/Images_vip/m_361.jpg  \n",
            "  inflating: Face_to_BMI/Data/Images_vip/m_362.jpg  \n",
            "  inflating: Face_to_BMI/Data/Images_vip/m_363.jpg  \n",
            "  inflating: Face_to_BMI/Data/Images_vip/m_364.jpg  \n",
            "  inflating: Face_to_BMI/Data/Images_vip/m_365.jpg  \n",
            "  inflating: Face_to_BMI/Data/Images_vip/m_366.jpg  \n",
            "  inflating: Face_to_BMI/Data/Images_vip/m_367.jpg  \n",
            "  inflating: Face_to_BMI/Data/Images_vip/m_368.jpg  \n",
            "  inflating: Face_to_BMI/Data/Images_vip/m_369.jpg  \n",
            "  inflating: Face_to_BMI/Data/Images_vip/m_370.jpg  \n",
            "  inflating: Face_to_BMI/Data/Images_vip/m_371.jpg  \n",
            "  inflating: Face_to_BMI/Data/Images_vip/m_372.jpg  \n",
            "  inflating: Face_to_BMI/Data/Images_vip/m_373.jpg  \n",
            "  inflating: Face_to_BMI/Data/Images_vip/m_374.jpg  \n",
            "  inflating: Face_to_BMI/Data/Images_vip/m_375.jpg  \n",
            "  inflating: Face_to_BMI/Data/Images_vip/m_376.jpg  \n",
            "  inflating: Face_to_BMI/Data/Images_vip/m_377.jpg  \n",
            "  inflating: Face_to_BMI/Data/Images_vip/m_378.jpg  \n",
            "  inflating: Face_to_BMI/Data/Images_vip/m_379.jpg  \n",
            "  inflating: Face_to_BMI/Data/Images_vip/m_380.jpg  \n",
            "  inflating: Face_to_BMI/Data/Images_vip/m_381.jpg  \n",
            "  inflating: Face_to_BMI/Data/Images_vip/m_382.JPG  \n",
            "  inflating: Face_to_BMI/Data/Images_vip/m_383.jpg  \n",
            "  inflating: Face_to_BMI/Data/Images_vip/m_384.jpg  \n",
            "  inflating: Face_to_BMI/Data/Images_vip/m_385.jpg  \n",
            "  inflating: Face_to_BMI/Data/Images_vip/m_386.jpg  \n",
            "  inflating: Face_to_BMI/Data/Images_vip/m_387.jpg  \n",
            "  inflating: Face_to_BMI/Data/Images_vip/m_388.jpg  \n",
            "  inflating: Face_to_BMI/Data/Images_vip/m_389.jpg  \n",
            "  inflating: Face_to_BMI/Data/Images_vip/m_390.jpg  \n",
            "  inflating: Face_to_BMI/Data/Images_vip/m_391.jpg  \n",
            "  inflating: Face_to_BMI/Data/Images_vip/m_392.jpg  \n",
            "  inflating: Face_to_BMI/Data/Images_vip/m_393.jpg  \n",
            "  inflating: Face_to_BMI/Data/Images_vip/m_394.jpg  \n",
            "  inflating: Face_to_BMI/Data/Images_vip/m_395.jpg  \n",
            "  inflating: Face_to_BMI/Data/Images_vip/m_396.jpg  \n",
            "  inflating: Face_to_BMI/Data/Images_vip/m_397.jpg  \n",
            "  inflating: Face_to_BMI/Data/Images_vip/m_398.jpg  \n",
            "  inflating: Face_to_BMI/Data/Images_vip/m_399.jpg  \n",
            "  inflating: Face_to_BMI/Data/Images_vip/m_400.jpg  \n",
            "  inflating: Face_to_BMI/Data/Images_vip/m_401.jpg  \n",
            "  inflating: Face_to_BMI/Data/Images_vip/m_402.jpg  \n",
            "  inflating: Face_to_BMI/Data/Images_vip/m_403.jpg  \n",
            "  inflating: Face_to_BMI/Data/Images_vip/m_404.jpg  \n",
            "  inflating: Face_to_BMI/Data/Images_vip/m_405.jpg  \n",
            "  inflating: Face_to_BMI/Data/Images_vip/m_406.jpg  \n",
            "  inflating: Face_to_BMI/Data/Images_vip/m_407.jpg  \n",
            "  inflating: Face_to_BMI/Data/Images_vip/m_408.jpg  \n",
            "  inflating: Face_to_BMI/Data/Images_vip/m_409.jpg  \n",
            "  inflating: Face_to_BMI/Data/Images_vip/m_410.jpg  \n",
            "  inflating: Face_to_BMI/Data/Images_vip/m_411.jpg  \n",
            "  inflating: Face_to_BMI/Data/Images_vip/m_412.jpg  \n",
            "  inflating: Face_to_BMI/Data/Images_vip/m_413.jpg  \n",
            "  inflating: Face_to_BMI/Data/Images_vip/m_414.jpg  \n",
            "  inflating: Face_to_BMI/Data/Images_vip/m_415.jpg  \n",
            "  inflating: Face_to_BMI/Data/Images_vip/m_416.jpg  \n",
            "  inflating: Face_to_BMI/Data/Images_vip/m_417.jpg  \n",
            "  inflating: Face_to_BMI/Data/Images_vip/m_418.jpg  \n",
            "  inflating: Face_to_BMI/Data/Images_vip/m_419.jpg  \n",
            "  inflating: Face_to_BMI/Data/Images_vip/m_420.jpg  \n",
            "  inflating: Face_to_BMI/Data/Images_vip/m_421.jpg  \n",
            "  inflating: Face_to_BMI/Data/Images_vip/m_422.jpg  \n",
            "  inflating: Face_to_BMI/Data/Images_vip/m_423.jpg  \n",
            "  inflating: Face_to_BMI/Data/Images_vip/m_424.jpg  \n",
            "  inflating: Face_to_BMI/Data/Images_vip/m_425.jpg  \n",
            "  inflating: Face_to_BMI/Data/Images_vip/m_426.jpg  \n",
            "  inflating: Face_to_BMI/Data/Images_vip/m_427.jpg  \n",
            "  inflating: Face_to_BMI/Data/Images_vip/m_428.jpg  \n",
            "  inflating: Face_to_BMI/Data/Images_vip/m_429.jpg  \n",
            "  inflating: Face_to_BMI/Data/Images_vip/m_430.jpg  \n",
            "  inflating: Face_to_BMI/Data/Images_vip/m_431.jpg  \n",
            "  inflating: Face_to_BMI/Data/Images_vip/m_432.jpg  \n",
            "  inflating: Face_to_BMI/Data/Images_vip/m_433.jpg  \n",
            "  inflating: Face_to_BMI/Data/Images_vip/m_434.jpg  \n",
            "  inflating: Face_to_BMI/Data/Images_vip/m_435.jpg  \n",
            "  inflating: Face_to_BMI/Data/Images_vip/m_436.jpg  \n",
            "  inflating: Face_to_BMI/Data/Images_vip/m_437.jpg  \n",
            "  inflating: Face_to_BMI/Data/Images_vip/m_438.jpg  \n",
            "  inflating: Face_to_BMI/Data/Images_vip/m_439.jpg  \n",
            "  inflating: Face_to_BMI/Data/Images_vip/m_440.jpg  \n",
            "  inflating: Face_to_BMI/Data/Images_vip/m_441.jpg  \n",
            "  inflating: Face_to_BMI/Data/Images_vip/m_442.jpg  \n",
            "  inflating: Face_to_BMI/Data/Images_vip/m_443.jpg  \n",
            "  inflating: Face_to_BMI/Data/Images_vip/m_444.jpg  \n",
            "  inflating: Face_to_BMI/Data/Images_vip/m_445.jpg  \n",
            "  inflating: Face_to_BMI/Data/Images_vip/m_446.jpg  \n",
            "  inflating: Face_to_BMI/Data/Images_vip/m_447.jpg  \n",
            "  inflating: Face_to_BMI/Data/Images_vip/m_448.jpg  \n",
            "  inflating: Face_to_BMI/Data/Images_vip/m_449.jpg  \n",
            "  inflating: Face_to_BMI/Data/Images_vip/m_450.jpg  \n",
            "  inflating: Face_to_BMI/Data/Images_vip/m_451.jpg  \n",
            "  inflating: Face_to_BMI/Data/Images_vip/m_452.jpg  \n",
            "  inflating: Face_to_BMI/Data/Images_vip/m_453.jpg  \n",
            "  inflating: Face_to_BMI/Data/Images_vip/m_454.jpg  \n",
            "  inflating: Face_to_BMI/Data/Images_vip/m_455.jpg  \n",
            "  inflating: Face_to_BMI/Data/Images_vip/m_456.jpg  \n",
            "  inflating: Face_to_BMI/Data/Images_vip/m_457.jpg  \n",
            "  inflating: Face_to_BMI/Data/Images_vip/m_458.jpg  \n",
            "  inflating: Face_to_BMI/Data/Images_vip/m_459.jpg  \n",
            "  inflating: Face_to_BMI/Data/Images_vip/m_460.jpg  \n",
            "  inflating: Face_to_BMI/Data/Images_vip/m_461.jpg  \n",
            "  inflating: Face_to_BMI/Data/Images_vip/m_462.jpg  \n",
            "  inflating: Face_to_BMI/Data/Images_vip/m_463.jpg  \n",
            "  inflating: Face_to_BMI/Data/Images_vip/m_464.jpg  \n",
            "  inflating: Face_to_BMI/Data/Images_vip/m_465.jpg  \n",
            "  inflating: Face_to_BMI/Data/Images_vip/m_466.jpg  \n",
            "  inflating: Face_to_BMI/Data/Images_vip/m_467.jpg  \n",
            "  inflating: Face_to_BMI/Data/Images_vip/m_468.jpg  \n",
            "  inflating: Face_to_BMI/Data/Images_vip/m_469.jpg  \n",
            "  inflating: Face_to_BMI/Data/Images_vip/m_470.jpg  \n",
            "  inflating: Face_to_BMI/Data/Images_vip/m_471.jpg  \n",
            "  inflating: Face_to_BMI/Data/Images_vip/m_472.jpg  \n",
            "  inflating: Face_to_BMI/Data/Images_vip/m_473.jpg  \n",
            "  inflating: Face_to_BMI/Data/Images_vip/m_474.jpg  \n",
            "  inflating: Face_to_BMI/Data/Images_vip/m_475.jpg  \n",
            "  inflating: Face_to_BMI/Data/Images_vip/m_476.jpg  \n",
            "  inflating: Face_to_BMI/Data/Images_vip/m_477.jpg  \n",
            "  inflating: Face_to_BMI/Data/Images_vip/m_478.jpg  \n",
            "  inflating: Face_to_BMI/Data/Images_vip/m_479.jpg  \n",
            "  inflating: Face_to_BMI/Data/Images_vip/m_480.jpg  \n",
            "  inflating: Face_to_BMI/Data/Images_vip/m_481.jpg  \n",
            "  inflating: Face_to_BMI/Data/Images_vip/m_482.jpg  \n",
            "  inflating: Face_to_BMI/Data/Images_vip/m_483.jpg  \n",
            "  inflating: Face_to_BMI/Data/Images_vip/m_484.jpg  \n",
            "  inflating: Face_to_BMI/Data/Images_vip/m_485.jpg  \n",
            "  inflating: Face_to_BMI/Data/Images_vip/m_486.jpg  \n",
            "  inflating: Face_to_BMI/Data/Images_vip/m_487.jpg  \n",
            "  inflating: Face_to_BMI/Data/Images_vip/m_488.jpg  \n",
            "  inflating: Face_to_BMI/Data/Images_vip/m_489.jpg  \n",
            "  inflating: Face_to_BMI/Data/Images_vip/m_490.jpg  \n",
            "  inflating: Face_to_BMI/Data/Images_vip/m_491.jpg  \n",
            "  inflating: Face_to_BMI/Data/Images_vip/m_492.jpg  \n",
            "  inflating: Face_to_BMI/Data/Images_vip/m_493.jpg  \n",
            "  inflating: Face_to_BMI/Data/Images_vip/m_494.jpg  \n",
            "  inflating: Face_to_BMI/Data/Images_vip/m_495.jpg  \n",
            "  inflating: Face_to_BMI/Data/Images_vip/m_496.jpg  \n",
            "  inflating: Face_to_BMI/Data/Images_vip/m_497.jpg  \n",
            "  inflating: Face_to_BMI/Data/Images_vip/m_498.jpg  \n",
            "  inflating: Face_to_BMI/Data/Images_vip/m_499.jpg  \n",
            "  inflating: Face_to_BMI/Data/Images_vip/m_500.jpg  \n",
            "  inflating: Face_to_BMI/Data/Images_vip/m_501.jpg  \n",
            "  inflating: Face_to_BMI/Data/Images_vip/m_502.jpg  \n",
            "  inflating: Face_to_BMI/Data/Images_vip/m_503.jpg  \n",
            "  inflating: Face_to_BMI/Data/Images_vip/m_504.jpg  \n",
            "  inflating: Face_to_BMI/Data/Images_vip/m_505.jpg  \n",
            "  inflating: Face_to_BMI/Data/Images_vip/m_506.jpg  \n",
            "  inflating: Face_to_BMI/Data/Images_vip/m_507.jpg  \n",
            "  inflating: Face_to_BMI/Data/Images_vip/m_508.jpg  \n",
            "  inflating: Face_to_BMI/Data/Images_vip/m_509.jpg  \n",
            "  inflating: Face_to_BMI/Data/Images_vip/m_510.jpg  \n",
            "  inflating: Face_to_BMI/Data/Images_vip/m_511.jpg  \n",
            "  inflating: Face_to_BMI/Data/Images_vip/m_512.jpg  \n",
            "  inflating: Face_to_BMI/Data/Images_vip/m_513.jpg  \n",
            "   creating: Face_to_BMI/Data/Test_Images3/\n",
            "  inflating: Face_to_BMI/Data/Test_Images3/1miley.jpg  \n",
            "  inflating: Face_to_BMI/Data/Test_Images3/2cf00f5b762e56a689095c1c1da0cdb2.jpg  \n",
            "  inflating: Face_to_BMI/Data/Test_Images3/morphy-me-celebrity-face-mashups-15.jpg  \n"
          ]
        }
      ]
    },
    {
      "cell_type": "code",
      "metadata": {
        "id": "gDF93SH129SV"
      },
      "source": [
        "df = pd.read_csv('/content/Face_to_BMI/Data/annotation.csv')"
      ],
      "execution_count": null,
      "outputs": []
    },
    {
      "cell_type": "code",
      "metadata": {
        "colab": {
          "base_uri": "https://localhost:8080/",
          "height": 424
        },
        "id": "asA72QAX3qaH",
        "outputId": "35c2cf6a-c5c5-4ed5-a230-42e5b4dcba32"
      },
      "source": [
        "df"
      ],
      "execution_count": null,
      "outputs": [
        {
          "output_type": "execute_result",
          "data": {
            "text/html": [
              "<div>\n",
              "<style scoped>\n",
              "    .dataframe tbody tr th:only-of-type {\n",
              "        vertical-align: middle;\n",
              "    }\n",
              "\n",
              "    .dataframe tbody tr th {\n",
              "        vertical-align: top;\n",
              "    }\n",
              "\n",
              "    .dataframe thead th {\n",
              "        text-align: right;\n",
              "    }\n",
              "</style>\n",
              "<table border=\"1\" class=\"dataframe\">\n",
              "  <thead>\n",
              "    <tr style=\"text-align: right;\">\n",
              "      <th></th>\n",
              "      <th>image</th>\n",
              "      <th>height</th>\n",
              "      <th>weight</th>\n",
              "      <th>BMI</th>\n",
              "    </tr>\n",
              "  </thead>\n",
              "  <tbody>\n",
              "    <tr>\n",
              "      <th>0</th>\n",
              "      <td>f_001</td>\n",
              "      <td>1.55</td>\n",
              "      <td>61.0</td>\n",
              "      <td>25.390219</td>\n",
              "    </tr>\n",
              "    <tr>\n",
              "      <th>1</th>\n",
              "      <td>f_002</td>\n",
              "      <td>1.76</td>\n",
              "      <td>85.0</td>\n",
              "      <td>27.440599</td>\n",
              "    </tr>\n",
              "    <tr>\n",
              "      <th>2</th>\n",
              "      <td>f_003</td>\n",
              "      <td>1.78</td>\n",
              "      <td>56.0</td>\n",
              "      <td>17.674536</td>\n",
              "    </tr>\n",
              "    <tr>\n",
              "      <th>3</th>\n",
              "      <td>f_004</td>\n",
              "      <td>1.63</td>\n",
              "      <td>63.0</td>\n",
              "      <td>23.711845</td>\n",
              "    </tr>\n",
              "    <tr>\n",
              "      <th>4</th>\n",
              "      <td>f_005</td>\n",
              "      <td>1.76</td>\n",
              "      <td>54.0</td>\n",
              "      <td>17.432851</td>\n",
              "    </tr>\n",
              "    <tr>\n",
              "      <th>...</th>\n",
              "      <td>...</td>\n",
              "      <td>...</td>\n",
              "      <td>...</td>\n",
              "      <td>...</td>\n",
              "    </tr>\n",
              "    <tr>\n",
              "      <th>1021</th>\n",
              "      <td>m_509</td>\n",
              "      <td>1.91</td>\n",
              "      <td>116.0</td>\n",
              "      <td>31.797374</td>\n",
              "    </tr>\n",
              "    <tr>\n",
              "      <th>1022</th>\n",
              "      <td>m_510</td>\n",
              "      <td>1.93</td>\n",
              "      <td>111.0</td>\n",
              "      <td>29.799458</td>\n",
              "    </tr>\n",
              "    <tr>\n",
              "      <th>1023</th>\n",
              "      <td>m_511</td>\n",
              "      <td>1.88</td>\n",
              "      <td>109.0</td>\n",
              "      <td>30.839746</td>\n",
              "    </tr>\n",
              "    <tr>\n",
              "      <th>1024</th>\n",
              "      <td>m_512</td>\n",
              "      <td>1.78</td>\n",
              "      <td>75.0</td>\n",
              "      <td>23.671254</td>\n",
              "    </tr>\n",
              "    <tr>\n",
              "      <th>1025</th>\n",
              "      <td>m_513</td>\n",
              "      <td>2.21</td>\n",
              "      <td>137.0</td>\n",
              "      <td>28.050204</td>\n",
              "    </tr>\n",
              "  </tbody>\n",
              "</table>\n",
              "<p>1026 rows × 4 columns</p>\n",
              "</div>"
            ],
            "text/plain": [
              "      image  height  weight        BMI\n",
              "0     f_001    1.55    61.0  25.390219\n",
              "1     f_002    1.76    85.0  27.440599\n",
              "2     f_003    1.78    56.0  17.674536\n",
              "3     f_004    1.63    63.0  23.711845\n",
              "4     f_005    1.76    54.0  17.432851\n",
              "...     ...     ...     ...        ...\n",
              "1021  m_509    1.91   116.0  31.797374\n",
              "1022  m_510    1.93   111.0  29.799458\n",
              "1023  m_511    1.88   109.0  30.839746\n",
              "1024  m_512    1.78    75.0  23.671254\n",
              "1025  m_513    2.21   137.0  28.050204\n",
              "\n",
              "[1026 rows x 4 columns]"
            ]
          },
          "metadata": {},
          "execution_count": 19
        }
      ]
    },
    {
      "cell_type": "code",
      "metadata": {
        "id": "TnF9EwK63s4G"
      },
      "source": [
        "dff = df[0:513]\n",
        "dfm = df[513:]"
      ],
      "execution_count": null,
      "outputs": []
    },
    {
      "cell_type": "code",
      "metadata": {
        "colab": {
          "base_uri": "https://localhost:8080/",
          "height": 206
        },
        "id": "R9rLsme03zZM",
        "outputId": "178a5167-35ad-40e2-9963-10b4525884a7"
      },
      "source": [
        "dff.head()"
      ],
      "execution_count": null,
      "outputs": [
        {
          "output_type": "execute_result",
          "data": {
            "text/html": [
              "<div>\n",
              "<style scoped>\n",
              "    .dataframe tbody tr th:only-of-type {\n",
              "        vertical-align: middle;\n",
              "    }\n",
              "\n",
              "    .dataframe tbody tr th {\n",
              "        vertical-align: top;\n",
              "    }\n",
              "\n",
              "    .dataframe thead th {\n",
              "        text-align: right;\n",
              "    }\n",
              "</style>\n",
              "<table border=\"1\" class=\"dataframe\">\n",
              "  <thead>\n",
              "    <tr style=\"text-align: right;\">\n",
              "      <th></th>\n",
              "      <th>image</th>\n",
              "      <th>height</th>\n",
              "      <th>weight</th>\n",
              "      <th>BMI</th>\n",
              "    </tr>\n",
              "  </thead>\n",
              "  <tbody>\n",
              "    <tr>\n",
              "      <th>0</th>\n",
              "      <td>f_001</td>\n",
              "      <td>1.55</td>\n",
              "      <td>61.0</td>\n",
              "      <td>25.390219</td>\n",
              "    </tr>\n",
              "    <tr>\n",
              "      <th>1</th>\n",
              "      <td>f_002</td>\n",
              "      <td>1.76</td>\n",
              "      <td>85.0</td>\n",
              "      <td>27.440599</td>\n",
              "    </tr>\n",
              "    <tr>\n",
              "      <th>2</th>\n",
              "      <td>f_003</td>\n",
              "      <td>1.78</td>\n",
              "      <td>56.0</td>\n",
              "      <td>17.674536</td>\n",
              "    </tr>\n",
              "    <tr>\n",
              "      <th>3</th>\n",
              "      <td>f_004</td>\n",
              "      <td>1.63</td>\n",
              "      <td>63.0</td>\n",
              "      <td>23.711845</td>\n",
              "    </tr>\n",
              "    <tr>\n",
              "      <th>4</th>\n",
              "      <td>f_005</td>\n",
              "      <td>1.76</td>\n",
              "      <td>54.0</td>\n",
              "      <td>17.432851</td>\n",
              "    </tr>\n",
              "  </tbody>\n",
              "</table>\n",
              "</div>"
            ],
            "text/plain": [
              "   image  height  weight        BMI\n",
              "0  f_001    1.55    61.0  25.390219\n",
              "1  f_002    1.76    85.0  27.440599\n",
              "2  f_003    1.78    56.0  17.674536\n",
              "3  f_004    1.63    63.0  23.711845\n",
              "4  f_005    1.76    54.0  17.432851"
            ]
          },
          "metadata": {},
          "execution_count": 21
        }
      ]
    },
    {
      "cell_type": "code",
      "metadata": {
        "colab": {
          "base_uri": "https://localhost:8080/",
          "height": 206
        },
        "id": "JwHAyo_j31Pn",
        "outputId": "d91d20fe-71b4-41ae-c9f7-aef9aedd089c"
      },
      "source": [
        "dfm.head()"
      ],
      "execution_count": null,
      "outputs": [
        {
          "output_type": "execute_result",
          "data": {
            "text/html": [
              "<div>\n",
              "<style scoped>\n",
              "    .dataframe tbody tr th:only-of-type {\n",
              "        vertical-align: middle;\n",
              "    }\n",
              "\n",
              "    .dataframe tbody tr th {\n",
              "        vertical-align: top;\n",
              "    }\n",
              "\n",
              "    .dataframe thead th {\n",
              "        text-align: right;\n",
              "    }\n",
              "</style>\n",
              "<table border=\"1\" class=\"dataframe\">\n",
              "  <thead>\n",
              "    <tr style=\"text-align: right;\">\n",
              "      <th></th>\n",
              "      <th>image</th>\n",
              "      <th>height</th>\n",
              "      <th>weight</th>\n",
              "      <th>BMI</th>\n",
              "    </tr>\n",
              "  </thead>\n",
              "  <tbody>\n",
              "    <tr>\n",
              "      <th>513</th>\n",
              "      <td>m_001</td>\n",
              "      <td>1.83</td>\n",
              "      <td>84.0</td>\n",
              "      <td>25.082863</td>\n",
              "    </tr>\n",
              "    <tr>\n",
              "      <th>514</th>\n",
              "      <td>m_002</td>\n",
              "      <td>1.83</td>\n",
              "      <td>75.0</td>\n",
              "      <td>22.395413</td>\n",
              "    </tr>\n",
              "    <tr>\n",
              "      <th>515</th>\n",
              "      <td>m_003</td>\n",
              "      <td>2.11</td>\n",
              "      <td>122.0</td>\n",
              "      <td>27.402799</td>\n",
              "    </tr>\n",
              "    <tr>\n",
              "      <th>516</th>\n",
              "      <td>m_004</td>\n",
              "      <td>1.80</td>\n",
              "      <td>74.0</td>\n",
              "      <td>22.839506</td>\n",
              "    </tr>\n",
              "    <tr>\n",
              "      <th>517</th>\n",
              "      <td>m_005</td>\n",
              "      <td>1.82</td>\n",
              "      <td>77.0</td>\n",
              "      <td>23.245985</td>\n",
              "    </tr>\n",
              "  </tbody>\n",
              "</table>\n",
              "</div>"
            ],
            "text/plain": [
              "     image  height  weight        BMI\n",
              "513  m_001    1.83    84.0  25.082863\n",
              "514  m_002    1.83    75.0  22.395413\n",
              "515  m_003    2.11   122.0  27.402799\n",
              "516  m_004    1.80    74.0  22.839506\n",
              "517  m_005    1.82    77.0  23.245985"
            ]
          },
          "metadata": {},
          "execution_count": 22
        }
      ]
    },
    {
      "cell_type": "code",
      "metadata": {
        "colab": {
          "base_uri": "https://localhost:8080/",
          "height": 632
        },
        "id": "m6IWgxRr36TC",
        "outputId": "d97ce590-18b9-4260-e4c2-21980493da92"
      },
      "source": [
        "sns.set()\n",
        "f_plot = dff.plot(style='o', x='height', y='weight', figsize=(15,10), grid=True, markersize=10, legend=False, fontsize=12)\n",
        "f_plot.set_ylabel('Weight(kg)', fontsize=12)\n",
        "f_plot.set_xlabel('Height(m)', fontsize=12)"
      ],
      "execution_count": null,
      "outputs": [
        {
          "output_type": "execute_result",
          "data": {
            "text/plain": [
              "Text(0.5, 0, 'Height(m)')"
            ]
          },
          "metadata": {},
          "execution_count": 23
        },
        {
          "output_type": "display_data",
          "data": {
            "image/png": "[encoded data removed]",
            "text/plain": [
              "<Figure size 1080x720 with 1 Axes>"
            ]
          },
          "metadata": {}
        }
      ]
    },
    {
      "cell_type": "code",
      "metadata": {
        "colab": {
          "base_uri": "https://localhost:8080/"
        },
        "id": "6dFXup3v3_NG",
        "outputId": "a8eee567-55e8-407e-eff9-4f909768e31b"
      },
      "source": [
        "print('Average Height = ' + str(round(dff['height'].mean(), 2)) + 'm, Average Weight = ' + str(round(dff['weight'].mean(), 2)) + 'kg')"
      ],
      "execution_count": null,
      "outputs": [
        {
          "output_type": "stream",
          "name": "stdout",
          "text": [
            "Average Height = 1.67m, Average Weight = 58.34kg\n"
          ]
        }
      ]
    },
    {
      "cell_type": "code",
      "metadata": {
        "colab": {
          "base_uri": "https://localhost:8080/",
          "height": 637
        },
        "id": "dPlAfi0o4Eem",
        "outputId": "954f99e2-09ce-428d-b1a1-847ec84af249"
      },
      "source": [
        "f_plot = dfm.plot(style='o', x='height', y='weight', figsize=(15,10), grid=True, markersize=10, legend=False, fontsize=12)\n",
        "f_plot.set_ylabel('Weight(kg)', fontsize=12)\n",
        "f_plot.set_xlabel('Height(m)', fontsize=12)"
      ],
      "execution_count": null,
      "outputs": [
        {
          "output_type": "execute_result",
          "data": {
            "text/plain": [
              "Text(0.5, 0, 'Height(m)')"
            ]
          },
          "metadata": {},
          "execution_count": 25
        },
        {
          "output_type": "display_data",
          "data": {
            "image/png": "[encoded data removed]",
            "text/plain": [
              "<Figure size 1080x720 with 1 Axes>"
            ]
          },
          "metadata": {}
        }
      ]
    },
    {
      "cell_type": "code",
      "metadata": {
        "colab": {
          "base_uri": "https://localhost:8080/"
        },
        "id": "8q8KW1s94IoG",
        "outputId": "fa50df2e-c858-4a08-b069-fdbe42c68b6a"
      },
      "source": [
        "print('Average Height = ' + str(round(dfm['height'].mean(), 2)) + 'm, Average Weight = ' + str(round(dfm['weight'].mean(), 2)) + 'kg')"
      ],
      "execution_count": null,
      "outputs": [
        {
          "output_type": "stream",
          "name": "stdout",
          "text": [
            "Average Height = 1.85m, Average Weight = 86.93kg\n"
          ]
        }
      ]
    },
    {
      "cell_type": "code",
      "metadata": {
        "id": "m-O3GPBf4PFl"
      },
      "source": [
        "def get_face_encoding(image_path):\n",
        "    try:\n",
        "      picture_of_me = face_recognition.load_image_file(image_path)\n",
        "    except FileNotFoundError:\n",
        "      print(image_path + \" no file found\")\n",
        "      return np.zeros(128).tolist()\n",
        "    my_face_encoding = face_recognition.face_encodings(picture_of_me)\n",
        "    if not my_face_encoding:\n",
        "        print(image_path + \" no face found !!!\")\n",
        "        return np.zeros(128).tolist()\n",
        "    return my_face_encoding[0].tolist()"
      ],
      "execution_count": null,
      "outputs": []
    },
    {
      "cell_type": "code",
      "metadata": {
        "colab": {
          "base_uri": "https://localhost:8080/"
        },
        "id": "f2siVwM14Qc9",
        "outputId": "15182ee6-e123-4a83-8ecf-5a9ccbf95a92"
      },
      "source": [
        "all_faces = []\n",
        "for image_name in df.image:\n",
        "  face_enc = get_face_encoding('/content/Face_to_BMI/Data/Images_vip/'+image_name+'.jpg')\n",
        "  all_faces.append(face_enc)"
      ],
      "execution_count": null,
      "outputs": [
        {
          "output_type": "stream",
          "name": "stdout",
          "text": [
            "/content/Face_to_BMI/Data/Images_vip/f_090.jpg no face found !!!\n",
            "/content/Face_to_BMI/Data/Images_vip/f_126.jpg no file found\n",
            "/content/Face_to_BMI/Data/Images_vip/f_325.jpg no face found !!!\n",
            "/content/Face_to_BMI/Data/Images_vip/f_342.jpg no file found\n",
            "/content/Face_to_BMI/Data/Images_vip/f_406.jpg no face found !!!\n",
            "/content/Face_to_BMI/Data/Images_vip/f_483.jpg no file found\n",
            "/content/Face_to_BMI/Data/Images_vip/f_487.jpg no file found\n",
            "/content/Face_to_BMI/Data/Images_vip/m_118.jpg no face found !!!\n",
            "/content/Face_to_BMI/Data/Images_vip/m_130.jpg no face found !!!\n",
            "/content/Face_to_BMI/Data/Images_vip/m_196.jpg no face found !!!\n",
            "/content/Face_to_BMI/Data/Images_vip/m_246.jpg no file found\n",
            "/content/Face_to_BMI/Data/Images_vip/m_336.jpg no file found\n",
            "/content/Face_to_BMI/Data/Images_vip/m_373.jpg no face found !!!\n",
            "/content/Face_to_BMI/Data/Images_vip/m_382.jpg no file found\n",
            "/content/Face_to_BMI/Data/Images_vip/m_390.jpg no face found !!!\n",
            "/content/Face_to_BMI/Data/Images_vip/m_452.jpg no face found !!!\n",
            "/content/Face_to_BMI/Data/Images_vip/m_455.jpg no face found !!!\n",
            "/content/Face_to_BMI/Data/Images_vip/m_493.jpg no face found !!!\n"
          ]
        }
      ]
    },
    {
      "cell_type": "code",
      "metadata": {
        "id": "TkUGwTd45OV3"
      },
      "source": [
        "X = np.array(all_faces) ## This is the training data matrix\n",
        "y_height = df.height.values ## all labels\n",
        "y_weight = df.weight.values\n",
        "y_BMI = df.BMI.values\n",
        "plotX = pd.DataFrame(X)"
      ],
      "execution_count": null,
      "outputs": []
    },
    {
      "cell_type": "code",
      "metadata": {
        "colab": {
          "base_uri": "https://localhost:8080/",
          "height": 612
        },
        "id": "HJIN4tVA5RsW",
        "outputId": "71d4f266-dfeb-444f-b178-e78097fbffba"
      },
      "source": [
        "from sklearn.decomposition import PCA\n",
        "pca = PCA(n_components=2)\n",
        "principalComponents = pca.fit_transform(plotX)\n",
        "print(pca.explained_variance_ratio_)\n",
        "principalDf = pd.DataFrame(data = principalComponents, columns = ['principal component 1', 'principal component 2'])\n",
        "pca1 = principalDf['principal component 1'].tolist()\n",
        "pca2 = principalDf['principal component 2'].tolist()\n",
        "sns.set()\n",
        "#plt.figure(figsize=(15,10))\n",
        "fig = plt.figure(figsize=(15,10))\n",
        "ax = fig.add_subplot(111, projection='3d')\n",
        "ax.scatter(y_height, pca1, pca2, s=60)\n",
        "ax.set_xlabel('Height(m)', fontsize=12)\n",
        "ax.set_ylabel('PCA 1', fontsize=12)\n",
        "ax.set_zlabel('PCA 2', fontsize=12)"
      ],
      "execution_count": null,
      "outputs": [
        {
          "output_type": "stream",
          "name": "stdout",
          "text": [
            "[0.12482027 0.08540781]\n"
          ]
        },
        {
          "output_type": "execute_result",
          "data": {
            "text/plain": [
              "Text(0.5, 0, 'PCA 2')"
            ]
          },
          "metadata": {},
          "execution_count": 19
        },
        {
          "output_type": "display_data",
          "data": {
            "image/png": "[encoded data removed]",
            "text/plain": [
              "<Figure size 1080x720 with 1 Axes>"
            ]
          },
          "metadata": {}
        }
      ]
    },
    {
      "cell_type": "code",
      "metadata": {
        "colab": {
          "base_uri": "https://localhost:8080/",
          "height": 575
        },
        "id": "-qX5l2TV5WXc",
        "outputId": "716a69cc-6e96-430f-90b8-56fb38e1df57"
      },
      "source": [
        "fig = plt.figure(figsize=(15,10))\n",
        "ax = fig.add_subplot(111, projection='3d')\n",
        "ax.scatter(y_weight, pca1, pca2, s=60)\n",
        "ax.set_xlabel('Weight(kg)', fontsize=12)\n",
        "ax.set_ylabel('PCA 1', fontsize=12)\n",
        "ax.set_zlabel('PCA 2', fontsize=12)\n",
        "plt.show()"
      ],
      "execution_count": null,
      "outputs": [
        {
          "output_type": "display_data",
          "data": {
            "image/png": "[encoded data removed]",
            "text/plain": [
              "<Figure size 1080x720 with 1 Axes>"
            ]
          },
          "metadata": {}
        }
      ]
    },
    {
      "cell_type": "code",
      "metadata": {
        "id": "S4wT2g-L5a2B"
      },
      "source": [
        "from sklearn.model_selection import train_test_split\n",
        "X_train, X_test, y_height_train, y_height_test, y_weight_train, y_weight_test ,y_BMI_train, y_BMI_test = train_test_split(X, y_height,y_weight,y_BMI, random_state=1)"
      ],
      "execution_count": null,
      "outputs": []
    },
    {
      "cell_type": "code",
      "metadata": {
        "id": "Tg_c5auJ5ewP"
      },
      "source": [
        "def report_goodness(model, X_test, y_test, predictor_log=True):\n",
        "    # Make predictions using the testing set\n",
        "    y_pred = model.predict(X_test)\n",
        "    y_true = y_test\n",
        "\n",
        "    if predictor_log:\n",
        "        y_true = np.log(y_test)\n",
        "    # The coefficients\n",
        "    # The mean squared error\n",
        "    print(\"Mean squared error: %.2f\"      % mean_squared_error(y_true, y_pred))\n",
        "    # Explained variance score: 1 is perfect prediction\n",
        "    print('Variance score: %.2f' % r2_score(y_true, y_pred))\n",
        "    \n",
        "    errors = abs(y_pred - y_true)\n",
        "    mape = 100 * np.mean(errors / y_true)\n",
        "    accuracy = 100 - mape\n",
        "    print('Model Performance')\n",
        "    print('Average Error: {:0.4f} degrees.'.format(np.mean(errors)))\n",
        "    print('Accuracy = {:0.2f}%.'.format(accuracy))"
      ],
      "execution_count": null,
      "outputs": []
    },
    {
      "cell_type": "code",
      "metadata": {
        "id": "EaEs_-K65idl"
      },
      "source": [
        "from sklearn.kernel_ridge import KernelRidge\n",
        "from sklearn import  linear_model\n",
        "from sklearn.linear_model import Ridge\n",
        "from sklearn.ensemble import RandomForestRegressor\n",
        "from sklearn.metrics import mean_squared_error, r2_score"
      ],
      "execution_count": null,
      "outputs": []
    },
    {
      "cell_type": "code",
      "metadata": {
        "colab": {
          "base_uri": "https://localhost:8080/"
        },
        "id": "d_zJRwAg5mI9",
        "outputId": "3370c267-f3e3-44b7-ba5f-989b217e1cd6"
      },
      "source": [
        "model_height = linear_model.LinearRegression()\n",
        "model_height = model_height.fit(X_train, np.log(y_height_train))\n",
        "report_goodness(model_height, X_test, y_height_test)"
      ],
      "execution_count": null,
      "outputs": [
        {
          "output_type": "stream",
          "name": "stdout",
          "text": [
            "Mean squared error: 0.00\n",
            "Variance score: 0.35\n",
            "Model Performance\n",
            "Average Error: 0.0503 degrees.\n",
            "Accuracy = 90.40%.\n"
          ]
        }
      ]
    },
    {
      "cell_type": "code",
      "metadata": {
        "colab": {
          "base_uri": "https://localhost:8080/"
        },
        "id": "_JSox-6n5qQN",
        "outputId": "4b32c710-cf35-4e85-f96e-dd9b7fabf773"
      },
      "source": [
        "model_weight = linear_model.LinearRegression()\n",
        "model_weight = model_weight.fit(X_train, np.log(y_weight_train))\n",
        "report_goodness(model_weight, X_test, y_weight_test)"
      ],
      "execution_count": null,
      "outputs": [
        {
          "output_type": "stream",
          "name": "stdout",
          "text": [
            "Mean squared error: 0.03\n",
            "Variance score: 0.60\n",
            "Model Performance\n",
            "Average Error: 0.1232 degrees.\n",
            "Accuracy = 97.15%.\n"
          ]
        }
      ]
    },
    {
      "cell_type": "code",
      "metadata": {
        "colab": {
          "base_uri": "https://localhost:8080/"
        },
        "id": "fF6uHlpz5tzW",
        "outputId": "45f08121-c776-4347-9fa1-fb9003ddbf2e"
      },
      "source": [
        "model_BMI = linear_model.LinearRegression()\n",
        "model_BMI = model_BMI.fit(X_train, np.log(y_BMI_train))\n",
        "report_goodness(model_BMI, X_test, y_BMI_test)"
      ],
      "execution_count": null,
      "outputs": [
        {
          "output_type": "stream",
          "name": "stdout",
          "text": [
            "Mean squared error: 0.02\n",
            "Variance score: 0.42\n",
            "Model Performance\n",
            "Average Error: 0.0884 degrees.\n",
            "Accuracy = 97.22%.\n"
          ]
        }
      ]
    },
    {
      "cell_type": "code",
      "metadata": {
        "colab": {
          "base_uri": "https://localhost:8080/"
        },
        "id": "kcadsHpz5zyu",
        "outputId": "cb774b3e-4ec8-47a7-e4d3-073afc1a22df"
      },
      "source": [
        "model_height = Ridge(fit_intercept=True, alpha=0.0015, random_state=4, normalize=True)\n",
        "model_height = model_height.fit(X_train, np.log(y_height_train))\n",
        "report_goodness(model_height, X_test, y_height_test)"
      ],
      "execution_count": null,
      "outputs": [
        {
          "output_type": "stream",
          "name": "stdout",
          "text": [
            "Mean squared error: 0.00\n",
            "Variance score: 0.38\n",
            "Model Performance\n",
            "Average Error: 0.0477 degrees.\n",
            "Accuracy = 90.92%.\n"
          ]
        }
      ]
    },
    {
      "cell_type": "code",
      "metadata": {
        "colab": {
          "base_uri": "https://localhost:8080/"
        },
        "id": "IqvySmNz53pl",
        "outputId": "96090a85-85dc-47cf-f9c4-cb4aa320f188"
      },
      "source": [
        "model_weight = Ridge(fit_intercept=True, alpha=0.0015, random_state=4, normalize=True)\n",
        "model_weight = model_weight.fit(X_train, np.log(y_weight_train))\n",
        "report_goodness(model_weight, X_test, y_weight_test)"
      ],
      "execution_count": null,
      "outputs": [
        {
          "output_type": "stream",
          "name": "stdout",
          "text": [
            "Mean squared error: 0.03\n",
            "Variance score: 0.61\n",
            "Model Performance\n",
            "Average Error: 0.1146 degrees.\n",
            "Accuracy = 97.35%.\n"
          ]
        }
      ]
    },
    {
      "cell_type": "code",
      "metadata": {
        "colab": {
          "base_uri": "https://localhost:8080/"
        },
        "id": "PEcI8zfJ548X",
        "outputId": "4576d61e-d917-4cbe-ac5f-2f42082cf3ce"
      },
      "source": [
        "model_BMI = Ridge(fit_intercept=True, alpha=0.0015, random_state=4, normalize=True)\n",
        "model_BMI = model_BMI.fit(X_train, np.log(y_BMI_train))\n",
        "report_goodness(model_BMI, X_test, y_BMI_test)"
      ],
      "execution_count": null,
      "outputs": [
        {
          "output_type": "stream",
          "name": "stdout",
          "text": [
            "Mean squared error: 0.01\n",
            "Variance score: 0.46\n",
            "Model Performance\n",
            "Average Error: 0.0844 degrees.\n",
            "Accuracy = 97.35%.\n"
          ]
        }
      ]
    },
    {
      "cell_type": "code",
      "metadata": {
        "colab": {
          "base_uri": "https://localhost:8080/"
        },
        "id": "nglSfarB5791",
        "outputId": "bc83cb35-41ab-42bc-e875-43539eb7d8d5"
      },
      "source": [
        "model_height = RandomForestRegressor(max_depth=2, random_state=0, n_estimators=100)\n",
        "model_height = model_height.fit(X_train,np.log(y_height_train))\n",
        "report_goodness(model_height, X_test, y_height_test)"
      ],
      "execution_count": null,
      "outputs": [
        {
          "output_type": "stream",
          "name": "stdout",
          "text": [
            "Mean squared error: 0.01\n",
            "Variance score: 0.31\n",
            "Model Performance\n",
            "Average Error: 0.0486 degrees.\n",
            "Accuracy = 90.73%.\n"
          ]
        }
      ]
    },
    {
      "cell_type": "code",
      "metadata": {
        "id": "Sq0BUPMy5_3O"
      },
      "source": [
        "from sklearn.model_selection import RandomizedSearchCV\n",
        "# Number of trees in random forest\n",
        "n_estimators = [int(x) for x in np.linspace(start = 10, stop = 1000, num = 10)]\n",
        "# Number of features to consider at every split\n",
        "max_features = ['auto', 'sqrt']\n",
        "# Maximum number of levels in tree\n",
        "max_depth = [int(x) for x in np.linspace(10, 100, num = 11)]\n",
        "max_depth.append(None)\n",
        "# Minimum number of samples required to split a node\n",
        "min_samples_split = [2, 5, 10]\n",
        "# Minimum number of samples required at each leaf node\n",
        "min_samples_leaf = [1, 2, 4]\n",
        "# Method of selecting samples for training each tree\n",
        "bootstrap = [True, False]\n",
        "# Create the random grid\n",
        "random_grid = {'n_estimators': n_estimators,\n",
        "               'max_features': max_features,\n",
        "               'max_depth': max_depth,\n",
        "               'min_samples_split': min_samples_split,\n",
        "               'min_samples_leaf': min_samples_leaf,\n",
        "               'bootstrap': bootstrap}\n",
        "rf = RandomForestRegressor()"
      ],
      "execution_count": null,
      "outputs": []
    },
    {
      "cell_type": "code",
      "metadata": {
        "colab": {
          "base_uri": "https://localhost:8080/"
        },
        "id": "-Vt2Dw446C9l",
        "outputId": "6a0beb9d-52d5-4644-f8b1-2b58bb067c57"
      },
      "source": [
        "rf_height_model = RandomizedSearchCV(estimator=rf, param_distributions=random_grid, n_iter=100, cv=3, verbose=2, random_state=42, n_jobs=-1)\n",
        "# Fit the random search model\n",
        "rf_height_model.fit(X_train,np.log(y_height_train))\n",
        "report_goodness(rf_height_model, X_test, y_height_test)"
      ],
      "execution_count": null,
      "outputs": [
        {
          "metadata": {
            "tags": null
          },
          "name": "stdout",
          "output_type": "stream",
          "text": [
            "Fitting 3 folds for each of 100 candidates, totalling 300 fits\n"
          ]
        },
        {
          "output_type": "stream",
          "name": "stderr",
          "text": [
            "[Parallel(n_jobs=-1)]: Using backend LokyBackend with 2 concurrent workers.\n",
            "[Parallel(n_jobs=-1)]: Done  37 tasks      | elapsed:  4.3min\n",
            "[Parallel(n_jobs=-1)]: Done 158 tasks      | elapsed: 18.9min\n",
            "[Parallel(n_jobs=-1)]: Done 300 out of 300 | elapsed: 35.3min finished\n"
          ]
        },
        {
          "output_type": "stream",
          "name": "stdout",
          "text": [
            "Mean squared error: 0.00\n",
            "Variance score: 0.36\n",
            "Model Performance\n",
            "Average Error: 0.0467 degrees.\n",
            "Accuracy = 91.09%.\n"
          ]
        }
      ]
    },
    {
      "cell_type": "code",
      "metadata": {
        "colab": {
          "base_uri": "https://localhost:8080/"
        },
        "id": "PcQHF64jEHbv",
        "outputId": "50cb179b-1815-445e-ae24-bec39da92387"
      },
      "source": [
        "model_weight = RandomForestRegressor(max_depth=2, random_state=0, n_estimators=100)\n",
        "model_weight = model_weight.fit(X_train, np.log(y_weight_train))\n",
        "report_goodness(model_weight, X_test, y_weight_test)"
      ],
      "execution_count": null,
      "outputs": [
        {
          "output_type": "stream",
          "name": "stdout",
          "text": [
            "Mean squared error: 0.04\n",
            "Variance score: 0.47\n",
            "Model Performance\n",
            "Average Error: 0.1336 degrees.\n",
            "Accuracy = 96.91%.\n"
          ]
        }
      ]
    },
    {
      "cell_type": "code",
      "metadata": {
        "colab": {
          "base_uri": "https://localhost:8080/"
        },
        "id": "y0jH969YENSu",
        "outputId": "cda4f22a-cbbc-4cde-cafe-a0063971871c"
      },
      "source": [
        "rf_weight_model = RandomizedSearchCV(estimator=rf, param_distributions=random_grid, n_iter=100, cv=3, verbose=2, random_state=42, n_jobs=-1)\n",
        "# Fit the random search model\n",
        "rf_weight_model.fit(X_train,np.log(y_weight_train))\n",
        "report_goodness(rf_weight_model,X_test,y_weight_test)"
      ],
      "execution_count": null,
      "outputs": [
        {
          "output_type": "stream",
          "name": "stdout",
          "text": [
            "Fitting 3 folds for each of 100 candidates, totalling 300 fits\n"
          ]
        },
        {
          "output_type": "stream",
          "name": "stderr",
          "text": [
            "[Parallel(n_jobs=-1)]: Using backend LokyBackend with 2 concurrent workers.\n",
            "[Parallel(n_jobs=-1)]: Done  37 tasks      | elapsed:  4.9min\n",
            "[Parallel(n_jobs=-1)]: Done 158 tasks      | elapsed: 21.9min\n",
            "[Parallel(n_jobs=-1)]: Done 300 out of 300 | elapsed: 40.3min finished\n"
          ]
        },
        {
          "output_type": "stream",
          "name": "stdout",
          "text": [
            "Mean squared error: 0.03\n",
            "Variance score: 0.59\n",
            "Model Performance\n",
            "Average Error: 0.1138 degrees.\n",
            "Accuracy = 97.38%.\n"
          ]
        }
      ]
    },
    {
      "cell_type": "code",
      "metadata": {
        "colab": {
          "base_uri": "https://localhost:8080/"
        },
        "id": "lA0A3diCPRiO",
        "outputId": "8f7c1e9f-cbc7-4c99-e96b-adbbe9ac8b05"
      },
      "source": [
        "model_BMI = RandomForestRegressor(max_depth=2, random_state=0, n_estimators=100)\n",
        "model_BMI = model_BMI.fit(X_train, np.log(y_BMI_train))\n",
        "report_goodness(model_BMI, X_test, y_BMI_test)"
      ],
      "execution_count": null,
      "outputs": [
        {
          "output_type": "stream",
          "name": "stdout",
          "text": [
            "Mean squared error: 0.02\n",
            "Variance score: 0.29\n",
            "Model Performance\n",
            "Average Error: 0.0964 degrees.\n",
            "Accuracy = 96.97%.\n"
          ]
        }
      ]
    },
    {
      "cell_type": "code",
      "metadata": {
        "colab": {
          "base_uri": "https://localhost:8080/"
        },
        "id": "e-JOZfF_PUEF",
        "outputId": "6bffc5d8-5d46-4b06-a6a2-0a50e12616f2"
      },
      "source": [
        "rf_BMI_model = RandomizedSearchCV(estimator=rf, param_distributions=random_grid, n_iter=100, cv=3, verbose=2, random_state=42, n_jobs=-1)\n",
        "# Fit the random search model\n",
        "rf_BMI_model.fit(X_train,np.log(y_BMI_train))\n",
        "report_goodness(rf_BMI_model, X_test, y_BMI_test)"
      ],
      "execution_count": null,
      "outputs": [
        {
          "output_type": "stream",
          "name": "stdout",
          "text": [
            "Fitting 3 folds for each of 100 candidates, totalling 300 fits\n"
          ]
        },
        {
          "output_type": "stream",
          "name": "stderr",
          "text": [
            "[Parallel(n_jobs=-1)]: Using backend LokyBackend with 2 concurrent workers.\n",
            "[Parallel(n_jobs=-1)]: Done  37 tasks      | elapsed:  5.0min\n",
            "[Parallel(n_jobs=-1)]: Done 158 tasks      | elapsed: 21.7min\n",
            "[Parallel(n_jobs=-1)]: Done 300 out of 300 | elapsed: 40.2min finished\n"
          ]
        },
        {
          "output_type": "stream",
          "name": "stdout",
          "text": [
            "Mean squared error: 0.02\n",
            "Variance score: 0.43\n",
            "Model Performance\n",
            "Average Error: 0.0845 degrees.\n",
            "Accuracy = 97.35%.\n"
          ]
        }
      ]
    },
    {
      "cell_type": "code",
      "metadata": {
        "id": "nVciw_e-PR5g"
      },
      "source": [
        ""
      ],
      "execution_count": null,
      "outputs": []
    },
    {
      "cell_type": "code",
      "metadata": {
        "id": "9y7S6CaAGI1A"
      },
      "source": [
        ""
      ],
      "execution_count": null,
      "outputs": []
    },
    {
      "cell_type": "code",
      "metadata": {
        "id": "Q6AZHWuFGJCG"
      },
      "source": [
        ""
      ],
      "execution_count": null,
      "outputs": []
    },
    {
      "cell_type": "code",
      "metadata": {
        "id": "r7Ruas5lGJc_"
      },
      "source": [
        "from sklearn.svm import SVR\n",
        "regressor = SVR(kernel = 'rbf')"
      ],
      "execution_count": null,
      "outputs": []
    },
    {
      "cell_type": "code",
      "metadata": {
        "colab": {
          "base_uri": "https://localhost:8080/"
        },
        "id": "TCysmc8iLab-",
        "outputId": "db7e31fe-51df-4edd-e463-69099acf2cbe"
      },
      "source": [
        "svrmodel_height = regressor.fit(X_train,np.log(y_height_train))\n",
        "report_goodness(svrmodel_height, X_test, y_height_test)"
      ],
      "execution_count": null,
      "outputs": [
        {
          "output_type": "stream",
          "name": "stdout",
          "text": [
            "Mean squared error: 0.01\n",
            "Variance score: 0.30\n",
            "Model Performance\n",
            "Average Error: 0.0520 degrees.\n",
            "Accuracy = 90.05%.\n"
          ]
        }
      ]
    },
    {
      "cell_type": "code",
      "metadata": {
        "colab": {
          "base_uri": "https://localhost:8080/"
        },
        "id": "FV20KZTCL4Qg",
        "outputId": "61ccefd6-aabd-4266-c59a-60a9c5bb3ccd"
      },
      "source": [
        "regressor = SVR(kernel = 'rbf')\n",
        "svrmodel_weight = regressor.fit(X_train, np.log(y_weight_train))\n",
        "report_goodness(svrmodel_weight, X_test, y_weight_test)"
      ],
      "execution_count": null,
      "outputs": [
        {
          "output_type": "stream",
          "name": "stdout",
          "text": [
            "Mean squared error: 0.03\n",
            "Variance score: 0.63\n",
            "Model Performance\n",
            "Average Error: 0.1060 degrees.\n",
            "Accuracy = 97.57%.\n"
          ]
        }
      ]
    },
    {
      "cell_type": "code",
      "metadata": {
        "colab": {
          "base_uri": "https://localhost:8080/"
        },
        "id": "xhxONEDNMFrO",
        "outputId": "eb6e9493-4c49-4c24-b6df-22d84d320ac9"
      },
      "source": [
        "regressor = SVR(kernel = 'rbf')\n",
        "svrmodel_BMI = regressor.fit(X_train, np.log(y_BMI_train))\n",
        "report_goodness(svrmodel_BMI, X_test, y_BMI_test)"
      ],
      "execution_count": null,
      "outputs": [
        {
          "output_type": "stream",
          "name": "stdout",
          "text": [
            "Mean squared error: 0.01\n",
            "Variance score: 0.45\n",
            "Model Performance\n",
            "Average Error: 0.0852 degrees.\n",
            "Accuracy = 97.32%.\n"
          ]
        }
      ]
    },
    {
      "cell_type": "code",
      "metadata": {
        "id": "3pBtzNLvNHNu"
      },
      "source": [
        ""
      ],
      "execution_count": null,
      "outputs": []
    },
    {
      "cell_type": "code",
      "metadata": {
        "id": "tHksCuzrNHrm"
      },
      "source": [
        "from sklearn.linear_model import Lasso"
      ],
      "execution_count": null,
      "outputs": []
    },
    {
      "cell_type": "code",
      "metadata": {
        "colab": {
          "base_uri": "https://localhost:8080/"
        },
        "id": "0j9wh1SjN_5J",
        "outputId": "ad6ed116-70de-472b-a5fe-cac4c20546bb"
      },
      "source": [
        "regressor = Lasso(alpha=1.0)\n",
        "model_height = regressor.fit(X_train,np.log(y_height_train))\n",
        "report_goodness(model_height, X_test, y_height_test)"
      ],
      "execution_count": null,
      "outputs": [
        {
          "output_type": "stream",
          "name": "stdout",
          "text": [
            "Mean squared error: 0.01\n",
            "Variance score: -0.00\n",
            "Model Performance\n",
            "Average Error: 0.0627 degrees.\n",
            "Accuracy = 88.22%.\n"
          ]
        }
      ]
    },
    {
      "cell_type": "code",
      "metadata": {
        "colab": {
          "base_uri": "https://localhost:8080/"
        },
        "id": "FLqO9wcvOMli",
        "outputId": "807b1726-4e5a-4ecd-ad40-66a8cd599923"
      },
      "source": [
        "regressor = Lasso(alpha=1.0)\n",
        "model_weight = regressor.fit(X_train, np.log(y_weight_train))\n",
        "report_goodness(model_weight, X_test, y_weight_test)"
      ],
      "execution_count": null,
      "outputs": [
        {
          "output_type": "stream",
          "name": "stdout",
          "text": [
            "Mean squared error: 0.07\n",
            "Variance score: -0.00\n",
            "Model Performance\n",
            "Average Error: 0.2102 degrees.\n",
            "Accuracy = 95.10%.\n"
          ]
        }
      ]
    },
    {
      "cell_type": "code",
      "metadata": {
        "colab": {
          "base_uri": "https://localhost:8080/"
        },
        "id": "xvq6FO4WOTwY",
        "outputId": "20c9e511-a40e-44aa-db26-358ece08ff58"
      },
      "source": [
        "regressor = Lasso(alpha=1.0)\n",
        "model_BMI = regressor.fit(X_train, np.log(y_BMI_train))\n",
        "report_goodness(model_BMI, X_test, y_BMI_test)"
      ],
      "execution_count": null,
      "outputs": [
        {
          "output_type": "stream",
          "name": "stdout",
          "text": [
            "Mean squared error: 0.03\n",
            "Variance score: -0.00\n",
            "Model Performance\n",
            "Average Error: 0.1229 degrees.\n",
            "Accuracy = 96.12%.\n"
          ]
        }
      ]
    },
    {
      "cell_type": "code",
      "metadata": {
        "id": "x-RqS2afOaEY"
      },
      "source": [
        ""
      ],
      "execution_count": null,
      "outputs": []
    },
    {
      "cell_type": "code",
      "metadata": {
        "id": "QZXqDtjkOaSQ",
        "colab": {
          "base_uri": "https://localhost:8080/"
        },
        "outputId": "e9886e0a-7d96-4c11-c91c-7bbf7b73b288"
      },
      "source": [
        "from sklearn.externals import joblib\n",
        "\n",
        "height_model = '/content/drive/My Drive/FaceToBMIModels/rf_height_model'\n",
        "weight_model = '/content/drive/My Drive/FaceToBMIModels/svrmodel_weight'\n",
        "bmi_model = '/content/drive/My Drive/FaceToBMIModels/rf_BMI_model'"
      ],
      "execution_count": null,
      "outputs": [
        {
          "output_type": "stream",
          "name": "stderr",
          "text": [
            "/usr/local/lib/python3.7/dist-packages/sklearn/externals/joblib/__init__.py:15: FutureWarning: sklearn.externals.joblib is deprecated in 0.21 and will be removed in 0.23. Please import this functionality directly from joblib, which can be installed with: pip install joblib. If this warning is raised when loading pickled models, you may need to re-serialize those models with scikit-learn 0.21+.\n",
            "  warnings.warn(msg, category=FutureWarning)\n"
          ]
        }
      ]
    },
    {
      "cell_type": "code",
      "metadata": {
        "id": "ArHan9_0jwqo"
      },
      "source": [
        "joblib.dump(rf_height_model, height_model)\n",
        "joblib.dump(svrmodel_weight, weight_model)\n",
        "joblib.dump(rf_BMI_model, bmi_model)"
      ],
      "execution_count": null,
      "outputs": []
    },
    {
      "cell_type": "code",
      "metadata": {
        "id": "ZiNjfUp6kj6j"
      },
      "source": [
        "height_predictor = joblib.load(height_model)\n",
        "weight_predictor = joblib.load(weight_model)\n",
        "bmi_predictor = joblib.load(bmi_model)"
      ],
      "execution_count": null,
      "outputs": []
    },
    {
      "cell_type": "code",
      "metadata": {
        "id": "phrCzm2nkuIe"
      },
      "source": [
        "def predict_height_weight_BMI(test_image, height_model, weight_model, bmi_model):\n",
        "    test_array = np.expand_dims(np.array(get_face_encoding(test_image)), axis=0)\n",
        "    height = np.exp(height_model.predict(test_array)).item()\n",
        "    weight = np.exp(weight_model.predict(test_array)).item()\n",
        "    bmi = np.exp(bmi_model.predict(test_array)).item()\n",
        "    return 'Height: {}m\\nWeight: {}kg\\nBmi: {}kg/m^2'.format(round(height, 2), round(weight, 2), round(bmi, 2))"
      ],
      "execution_count": null,
      "outputs": []
    },
    {
      "cell_type": "code",
      "metadata": {
        "colab": {
          "base_uri": "https://localhost:8080/",
          "height": 1000,
          "referenced_widgets": [
            "22637783181a49ae86daf17f2d49857b",
            "f13e746578094106b29da35e9f9b1458",
            "ce412e26937b4a52b0d8baebf411f661",
            "d44dff30076e42b781c00da15d691991",
            "362a8f4b0ca64447abce78e6e5c54449",
            "2f35d73fe1394c3ab1a06d7e89e9c19a"
          ]
        },
        "id": "r4Gcpsa5kxIv",
        "outputId": "385f6667-a2e7-4d93-f765-c89a53e7b25b"
      },
      "source": [
        "import ipywidgets as widgets\n",
        "from IPython.display import display \n",
        "import os\n",
        "images = os.listdir('/content/Face_to_BMI/Data/Test_Images3/')\n",
        "for img in images:\n",
        "  img_loc = '/content/Face_to_BMI/Data/Test_Images3/' + img\n",
        "  img_file = open(img_loc, 'rb')\n",
        "  test_img = img_file.read()\n",
        "  pred = predict_height_weight_BMI(img_loc, height_predictor, weight_predictor, bmi_predictor)\n",
        "  display(widgets.Image(value=test_img, format='jpg', width=300, height=400))\n",
        "  print(pred)"
      ],
      "execution_count": null,
      "outputs": [
        {
          "output_type": "display_data",
          "data": {
            "application/vnd.jupyter.widget-view+json": {
              "model_id": "22637783181a49ae86daf17f2d49857b",
              "version_minor": 0,
              "version_major": 2
            },
            "text/plain": [
              "Image(value=b'\\xff\\xd8\\xff\\xe0\\x00\\x10JFIF\\x00\\x01\\x01\\x01\\x00\\x18\\x00\\x18\\x00\\x00\\xff\\xdb\\x00C\\x00\\x03\\x02\\x0…"
            ]
          },
          "metadata": {}
        },
        {
          "output_type": "stream",
          "name": "stdout",
          "text": [
            "Height: 1.67m\n",
            "Weight: 55.26kg\n",
            "Bmi: 20.02kg/m^2\n"
          ]
        },
        {
          "output_type": "display_data",
          "data": {
            "application/vnd.jupyter.widget-view+json": {
              "model_id": "ce412e26937b4a52b0d8baebf411f661",
              "version_minor": 0,
              "version_major": 2
            },
            "text/plain": [
              "Image(value=b'\\xff\\xd8\\xff\\xe0\\x00\\x10JFIF\\x00\\x01\\x01\\x01\\x00H\\x00H\\x00\\x00\\xff\\xdb\\x00C\\x00\\x06\\x04\\x05\\x06\\…"
            ]
          },
          "metadata": {}
        },
        {
          "output_type": "stream",
          "name": "stdout",
          "text": [
            "Height: 1.83m\n",
            "Weight: 79.99kg\n",
            "Bmi: 24.74kg/m^2\n"
          ]
        },
        {
          "output_type": "display_data",
          "data": {
            "application/vnd.jupyter.widget-view+json": {
              "model_id": "362a8f4b0ca64447abce78e6e5c54449",
              "version_minor": 0,
              "version_major": 2
            },
            "text/plain": [
              "Image(value=b'\\xff\\xd8\\xff\\xe0\\x00\\x10JFIF\\x00\\x01\\x01\\x00\\x00H\\x00H\\x00\\x00\\xff\\xdb\\x00\\x84\\x00\\x06\\x04\\x05\\x…"
            ]
          },
          "metadata": {}
        },
        {
          "output_type": "stream",
          "name": "stdout",
          "text": [
            "Height: 1.85m\n",
            "Weight: 89.49kg\n",
            "Bmi: 24.51kg/m^2\n"
          ]
        }
      ]
    }
  ]
}